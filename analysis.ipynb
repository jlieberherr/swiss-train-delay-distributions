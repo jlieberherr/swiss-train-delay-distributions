{
 "cells": [
  {
   "cell_type": "code",
   "execution_count": 64,
   "metadata": {},
   "outputs": [],
   "source": [
    "import sys\n",
    "import os\n",
    "\n",
    "import pandas as pd\n",
    "import matplotlib\n",
    "import numpy as np\n",
    "import matplotlib.pyplot as plt\n",
    "\n",
    "import scipy\n",
    "import scipy.stats as st\n",
    "from scipy.optimize import minimize\n",
    "\n",
    "from collections import OrderedDict\n",
    "\n",
    "%matplotlib inline"
   ]
  },
  {
   "cell_type": "code",
   "execution_count": 2,
   "metadata": {},
   "outputs": [],
   "source": [
    "path_data = os.path.join(\"data\", \"processed_2_small.csv\")"
   ]
  },
  {
   "cell_type": "code",
   "execution_count": 3,
   "metadata": {},
   "outputs": [],
   "source": [
    "df = pd.read_csv(path_data, sep=\";\")"
   ]
  },
  {
   "cell_type": "code",
   "execution_count": 4,
   "metadata": {},
   "outputs": [
    {
     "data": {
      "text/plain": [
       "BETRIEBSTAG            object\n",
       "FAHRT_BEZEICHNER       object\n",
       "BETREIBER_ID           object\n",
       "VERKEHRSMITTEL_TEXT    object\n",
       "BPUIC                   int64\n",
       "ANKUNFTSZEIT           object\n",
       "AN_PROGNOSE            object\n",
       "ABFAHRTSZEIT           object\n",
       "AB_PROGNOSE            object\n",
       "dtype: object"
      ]
     },
     "execution_count": 4,
     "metadata": {},
     "output_type": "execute_result"
    }
   ],
   "source": [
    "df.dtypes"
   ]
  },
  {
   "cell_type": "code",
   "execution_count": 5,
   "metadata": {},
   "outputs": [],
   "source": [
    "dateparser_ddmmyyy = '%d.%m.%Y'\n",
    "dateparser_ddmmyyHHMM = '%d.%m.%Y %H:%M'\n",
    "dateparser_ddmmyyHHMMSS = '%d.%m.%Y %H:%M:%S'"
   ]
  },
  {
   "cell_type": "code",
   "execution_count": 6,
   "metadata": {},
   "outputs": [],
   "source": [
    "df[\"BETRIEBSTAG\"] = pd.to_datetime(df[\"BETRIEBSTAG\"], format=dateparser_ddmmyyy)\n",
    "df[\"ANKUNFTSZEIT\"] = pd.to_datetime(df[\"ANKUNFTSZEIT\"], format=dateparser_ddmmyyHHMM)\n",
    "df[\"AN_PROGNOSE\"] = pd.to_datetime(df[\"AN_PROGNOSE\"], format=dateparser_ddmmyyHHMMSS)\n",
    "df[\"ABFAHRTSZEIT\"] = pd.to_datetime(df[\"ABFAHRTSZEIT\"], format=dateparser_ddmmyyHHMM)\n",
    "df[\"AB_PROGNOSE\"] = pd.to_datetime(df[\"AB_PROGNOSE\"], format=dateparser_ddmmyyHHMMSS)"
   ]
  },
  {
   "cell_type": "code",
   "execution_count": 7,
   "metadata": {},
   "outputs": [
    {
     "data": {
      "text/plain": [
       "BETRIEBSTAG            datetime64[ns]\n",
       "FAHRT_BEZEICHNER               object\n",
       "BETREIBER_ID                   object\n",
       "VERKEHRSMITTEL_TEXT            object\n",
       "BPUIC                           int64\n",
       "ANKUNFTSZEIT           datetime64[ns]\n",
       "AN_PROGNOSE            datetime64[ns]\n",
       "ABFAHRTSZEIT           datetime64[ns]\n",
       "AB_PROGNOSE            datetime64[ns]\n",
       "dtype: object"
      ]
     },
     "execution_count": 7,
     "metadata": {},
     "output_type": "execute_result"
    }
   ],
   "source": [
    "df.dtypes"
   ]
  },
  {
   "cell_type": "code",
   "execution_count": 8,
   "metadata": {},
   "outputs": [
    {
     "data": {
      "text/html": [
       "<div>\n",
       "<style scoped>\n",
       "    .dataframe tbody tr th:only-of-type {\n",
       "        vertical-align: middle;\n",
       "    }\n",
       "\n",
       "    .dataframe tbody tr th {\n",
       "        vertical-align: top;\n",
       "    }\n",
       "\n",
       "    .dataframe thead th {\n",
       "        text-align: right;\n",
       "    }\n",
       "</style>\n",
       "<table border=\"1\" class=\"dataframe\">\n",
       "  <thead>\n",
       "    <tr style=\"text-align: right;\">\n",
       "      <th></th>\n",
       "      <th>BETRIEBSTAG</th>\n",
       "      <th>FAHRT_BEZEICHNER</th>\n",
       "      <th>BETREIBER_ID</th>\n",
       "      <th>VERKEHRSMITTEL_TEXT</th>\n",
       "      <th>BPUIC</th>\n",
       "      <th>ANKUNFTSZEIT</th>\n",
       "      <th>AN_PROGNOSE</th>\n",
       "      <th>ABFAHRTSZEIT</th>\n",
       "      <th>AB_PROGNOSE</th>\n",
       "    </tr>\n",
       "  </thead>\n",
       "  <tbody>\n",
       "    <tr>\n",
       "      <th>0</th>\n",
       "      <td>2018-03-10</td>\n",
       "      <td>80:807000:19700:002</td>\n",
       "      <td>80:807000</td>\n",
       "      <td>RB</td>\n",
       "      <td>8503424</td>\n",
       "      <td>2018-03-10 05:54:00</td>\n",
       "      <td>2018-03-10 05:55:40</td>\n",
       "      <td>NaT</td>\n",
       "      <td>NaT</td>\n",
       "    </tr>\n",
       "    <tr>\n",
       "      <th>1</th>\n",
       "      <td>2018-03-10</td>\n",
       "      <td>80:807000:19701:001</td>\n",
       "      <td>80:807000</td>\n",
       "      <td>S</td>\n",
       "      <td>8503424</td>\n",
       "      <td>NaT</td>\n",
       "      <td>NaT</td>\n",
       "      <td>2018-03-10 05:28:00</td>\n",
       "      <td>2018-03-10 05:28:56</td>\n",
       "    </tr>\n",
       "    <tr>\n",
       "      <th>2</th>\n",
       "      <td>2018-03-10</td>\n",
       "      <td>80:807000:19702:004</td>\n",
       "      <td>80:807000</td>\n",
       "      <td>RB</td>\n",
       "      <td>8503424</td>\n",
       "      <td>2018-03-10 06:24:00</td>\n",
       "      <td>2018-03-10 06:24:49</td>\n",
       "      <td>NaT</td>\n",
       "      <td>NaT</td>\n",
       "    </tr>\n",
       "    <tr>\n",
       "      <th>3</th>\n",
       "      <td>2018-03-10</td>\n",
       "      <td>80:807000:19703:005</td>\n",
       "      <td>80:807000</td>\n",
       "      <td>S</td>\n",
       "      <td>8503424</td>\n",
       "      <td>NaT</td>\n",
       "      <td>NaT</td>\n",
       "      <td>2018-03-10 06:07:00</td>\n",
       "      <td>2018-03-10 06:07:35</td>\n",
       "    </tr>\n",
       "    <tr>\n",
       "      <th>4</th>\n",
       "      <td>2018-03-10</td>\n",
       "      <td>80:807000:19704:007</td>\n",
       "      <td>80:807000</td>\n",
       "      <td>RB</td>\n",
       "      <td>8503424</td>\n",
       "      <td>2018-03-10 06:54:00</td>\n",
       "      <td>2018-03-10 06:55:39</td>\n",
       "      <td>NaT</td>\n",
       "      <td>NaT</td>\n",
       "    </tr>\n",
       "  </tbody>\n",
       "</table>\n",
       "</div>"
      ],
      "text/plain": [
       "  BETRIEBSTAG     FAHRT_BEZEICHNER BETREIBER_ID VERKEHRSMITTEL_TEXT    BPUIC  \\\n",
       "0  2018-03-10  80:807000:19700:002    80:807000                  RB  8503424   \n",
       "1  2018-03-10  80:807000:19701:001    80:807000                   S  8503424   \n",
       "2  2018-03-10  80:807000:19702:004    80:807000                  RB  8503424   \n",
       "3  2018-03-10  80:807000:19703:005    80:807000                   S  8503424   \n",
       "4  2018-03-10  80:807000:19704:007    80:807000                  RB  8503424   \n",
       "\n",
       "         ANKUNFTSZEIT         AN_PROGNOSE        ABFAHRTSZEIT  \\\n",
       "0 2018-03-10 05:54:00 2018-03-10 05:55:40                 NaT   \n",
       "1                 NaT                 NaT 2018-03-10 05:28:00   \n",
       "2 2018-03-10 06:24:00 2018-03-10 06:24:49                 NaT   \n",
       "3                 NaT                 NaT 2018-03-10 06:07:00   \n",
       "4 2018-03-10 06:54:00 2018-03-10 06:55:39                 NaT   \n",
       "\n",
       "          AB_PROGNOSE  \n",
       "0                 NaT  \n",
       "1 2018-03-10 05:28:56  \n",
       "2                 NaT  \n",
       "3 2018-03-10 06:07:35  \n",
       "4                 NaT  "
      ]
     },
     "execution_count": 8,
     "metadata": {},
     "output_type": "execute_result"
    }
   ],
   "source": [
    "df.head()"
   ]
  },
  {
   "cell_type": "code",
   "execution_count": 9,
   "metadata": {},
   "outputs": [],
   "source": [
    "df[\"VERSPAETUNG_AN\"] = df[\"AN_PROGNOSE\"] - df[\"ANKUNFTSZEIT\"]\n",
    "df[\"VERSPAETUNG_AB\"] = df[\"AB_PROGNOSE\"] - df[\"ABFAHRTSZEIT\"]"
   ]
  },
  {
   "cell_type": "code",
   "execution_count": 10,
   "metadata": {},
   "outputs": [
    {
     "data": {
      "text/html": [
       "<div>\n",
       "<style scoped>\n",
       "    .dataframe tbody tr th:only-of-type {\n",
       "        vertical-align: middle;\n",
       "    }\n",
       "\n",
       "    .dataframe tbody tr th {\n",
       "        vertical-align: top;\n",
       "    }\n",
       "\n",
       "    .dataframe thead th {\n",
       "        text-align: right;\n",
       "    }\n",
       "</style>\n",
       "<table border=\"1\" class=\"dataframe\">\n",
       "  <thead>\n",
       "    <tr style=\"text-align: right;\">\n",
       "      <th></th>\n",
       "      <th>BETRIEBSTAG</th>\n",
       "      <th>FAHRT_BEZEICHNER</th>\n",
       "      <th>BETREIBER_ID</th>\n",
       "      <th>VERKEHRSMITTEL_TEXT</th>\n",
       "      <th>BPUIC</th>\n",
       "      <th>ANKUNFTSZEIT</th>\n",
       "      <th>AN_PROGNOSE</th>\n",
       "      <th>ABFAHRTSZEIT</th>\n",
       "      <th>AB_PROGNOSE</th>\n",
       "      <th>VERSPAETUNG_AN</th>\n",
       "      <th>VERSPAETUNG_AB</th>\n",
       "    </tr>\n",
       "  </thead>\n",
       "  <tbody>\n",
       "    <tr>\n",
       "      <th>0</th>\n",
       "      <td>2018-03-10</td>\n",
       "      <td>80:807000:19700:002</td>\n",
       "      <td>80:807000</td>\n",
       "      <td>RB</td>\n",
       "      <td>8503424</td>\n",
       "      <td>2018-03-10 05:54:00</td>\n",
       "      <td>2018-03-10 05:55:40</td>\n",
       "      <td>NaT</td>\n",
       "      <td>NaT</td>\n",
       "      <td>00:01:40</td>\n",
       "      <td>NaT</td>\n",
       "    </tr>\n",
       "    <tr>\n",
       "      <th>1</th>\n",
       "      <td>2018-03-10</td>\n",
       "      <td>80:807000:19701:001</td>\n",
       "      <td>80:807000</td>\n",
       "      <td>S</td>\n",
       "      <td>8503424</td>\n",
       "      <td>NaT</td>\n",
       "      <td>NaT</td>\n",
       "      <td>2018-03-10 05:28:00</td>\n",
       "      <td>2018-03-10 05:28:56</td>\n",
       "      <td>NaT</td>\n",
       "      <td>00:00:56</td>\n",
       "    </tr>\n",
       "    <tr>\n",
       "      <th>2</th>\n",
       "      <td>2018-03-10</td>\n",
       "      <td>80:807000:19702:004</td>\n",
       "      <td>80:807000</td>\n",
       "      <td>RB</td>\n",
       "      <td>8503424</td>\n",
       "      <td>2018-03-10 06:24:00</td>\n",
       "      <td>2018-03-10 06:24:49</td>\n",
       "      <td>NaT</td>\n",
       "      <td>NaT</td>\n",
       "      <td>00:00:49</td>\n",
       "      <td>NaT</td>\n",
       "    </tr>\n",
       "    <tr>\n",
       "      <th>3</th>\n",
       "      <td>2018-03-10</td>\n",
       "      <td>80:807000:19703:005</td>\n",
       "      <td>80:807000</td>\n",
       "      <td>S</td>\n",
       "      <td>8503424</td>\n",
       "      <td>NaT</td>\n",
       "      <td>NaT</td>\n",
       "      <td>2018-03-10 06:07:00</td>\n",
       "      <td>2018-03-10 06:07:35</td>\n",
       "      <td>NaT</td>\n",
       "      <td>00:00:35</td>\n",
       "    </tr>\n",
       "    <tr>\n",
       "      <th>4</th>\n",
       "      <td>2018-03-10</td>\n",
       "      <td>80:807000:19704:007</td>\n",
       "      <td>80:807000</td>\n",
       "      <td>RB</td>\n",
       "      <td>8503424</td>\n",
       "      <td>2018-03-10 06:54:00</td>\n",
       "      <td>2018-03-10 06:55:39</td>\n",
       "      <td>NaT</td>\n",
       "      <td>NaT</td>\n",
       "      <td>00:01:39</td>\n",
       "      <td>NaT</td>\n",
       "    </tr>\n",
       "  </tbody>\n",
       "</table>\n",
       "</div>"
      ],
      "text/plain": [
       "  BETRIEBSTAG     FAHRT_BEZEICHNER BETREIBER_ID VERKEHRSMITTEL_TEXT    BPUIC  \\\n",
       "0  2018-03-10  80:807000:19700:002    80:807000                  RB  8503424   \n",
       "1  2018-03-10  80:807000:19701:001    80:807000                   S  8503424   \n",
       "2  2018-03-10  80:807000:19702:004    80:807000                  RB  8503424   \n",
       "3  2018-03-10  80:807000:19703:005    80:807000                   S  8503424   \n",
       "4  2018-03-10  80:807000:19704:007    80:807000                  RB  8503424   \n",
       "\n",
       "         ANKUNFTSZEIT         AN_PROGNOSE        ABFAHRTSZEIT  \\\n",
       "0 2018-03-10 05:54:00 2018-03-10 05:55:40                 NaT   \n",
       "1                 NaT                 NaT 2018-03-10 05:28:00   \n",
       "2 2018-03-10 06:24:00 2018-03-10 06:24:49                 NaT   \n",
       "3                 NaT                 NaT 2018-03-10 06:07:00   \n",
       "4 2018-03-10 06:54:00 2018-03-10 06:55:39                 NaT   \n",
       "\n",
       "          AB_PROGNOSE VERSPAETUNG_AN VERSPAETUNG_AB  \n",
       "0                 NaT       00:01:40            NaT  \n",
       "1 2018-03-10 05:28:56            NaT       00:00:56  \n",
       "2                 NaT       00:00:49            NaT  \n",
       "3 2018-03-10 06:07:35            NaT       00:00:35  \n",
       "4                 NaT       00:01:39            NaT  "
      ]
     },
     "execution_count": 10,
     "metadata": {},
     "output_type": "execute_result"
    }
   ],
   "source": [
    "df.head()"
   ]
  },
  {
   "cell_type": "code",
   "execution_count": 11,
   "metadata": {},
   "outputs": [],
   "source": [
    "df_an_versp = df[\"VERSPAETUNG_AN\"].dropna().apply(lambda d: d.total_seconds() / 60.0)"
   ]
  },
  {
   "cell_type": "code",
   "execution_count": 12,
   "metadata": {},
   "outputs": [
    {
     "data": {
      "text/plain": [
       "882207"
      ]
     },
     "execution_count": 12,
     "metadata": {},
     "output_type": "execute_result"
    }
   ],
   "source": [
    "len(df_an_versp)"
   ]
  },
  {
   "cell_type": "code",
   "execution_count": 13,
   "metadata": {},
   "outputs": [],
   "source": [
    "an_range = np.arange(-2, 10, 0.1)"
   ]
  },
  {
   "cell_type": "code",
   "execution_count": 14,
   "metadata": {},
   "outputs": [
    {
     "data": {
      "text/plain": [
       "<matplotlib.axes._subplots.AxesSubplot at 0x28c1ef98>"
      ]
     },
     "execution_count": 14,
     "metadata": {},
     "output_type": "execute_result"
    },
    {
     "data": {
      "image/png": "[encoded data removed]",
      "text/plain": [
       "<Figure size 720x432 with 1 Axes>"
      ]
     },
     "metadata": {
      "needs_background": "light"
     },
     "output_type": "display_data"
    }
   ],
   "source": [
    "df_an_versp.plot.hist(bins=an_range, figsize=(10, 6))"
   ]
  },
  {
   "cell_type": "code",
   "execution_count": 15,
   "metadata": {},
   "outputs": [],
   "source": [
    "df_ab_versp = df[\"VERSPAETUNG_AB\"].dropna().apply(lambda d: d.total_seconds() / 60.0)"
   ]
  },
  {
   "cell_type": "code",
   "execution_count": 16,
   "metadata": {},
   "outputs": [
    {
     "data": {
      "text/plain": [
       "1     0.933333\n",
       "3     0.583333\n",
       "5     0.466667\n",
       "7     0.500000\n",
       "9     0.600000\n",
       "11    0.633333\n",
       "13    0.416667\n",
       "15    0.600000\n",
       "17    0.466667\n",
       "19    0.683333\n",
       "21    0.550000\n",
       "23    0.483333\n",
       "25    0.466667\n",
       "27    0.516667\n",
       "29    0.333333\n",
       "Name: VERSPAETUNG_AB, dtype: float64"
      ]
     },
     "execution_count": 16,
     "metadata": {},
     "output_type": "execute_result"
    }
   ],
   "source": [
    "df_ab_versp.head(15)"
   ]
  },
  {
   "cell_type": "code",
   "execution_count": 17,
   "metadata": {},
   "outputs": [
    {
     "data": {
      "text/plain": [
       "903100"
      ]
     },
     "execution_count": 17,
     "metadata": {},
     "output_type": "execute_result"
    }
   ],
   "source": [
    "len(df_ab_versp)"
   ]
  },
  {
   "cell_type": "code",
   "execution_count": 18,
   "metadata": {},
   "outputs": [],
   "source": [
    "ab_range = np.arange(-2, 10, 0.1)"
   ]
  },
  {
   "cell_type": "code",
   "execution_count": 19,
   "metadata": {},
   "outputs": [
    {
     "data": {
      "text/plain": [
       "<matplotlib.axes._subplots.AxesSubplot at 0x2206fcc0>"
      ]
     },
     "execution_count": 19,
     "metadata": {},
     "output_type": "execute_result"
    },
    {
     "data": {
      "image/png": "[encoded data removed]",
      "text/plain": [
       "<Figure size 720x432 with 1 Axes>"
      ]
     },
     "metadata": {
      "needs_background": "light"
     },
     "output_type": "display_data"
    }
   ],
   "source": [
    "df_ab_versp.plot.hist(bins=ab_range, figsize=(10, 6))"
   ]
  },
  {
   "cell_type": "code",
   "execution_count": 44,
   "metadata": {},
   "outputs": [],
   "source": [
    "x = df_an_versp[:1000]\n",
    "d, p = scipy.stats.kstest(x, 'norm', (0.57737691, 1.12254617))"
   ]
  },
  {
   "cell_type": "code",
   "execution_count": 45,
   "metadata": {},
   "outputs": [
    {
     "name": "stdout",
     "output_type": "stream",
     "text": [
      "0.03830497119412968\n",
      "0.10359721486162615\n"
     ]
    }
   ],
   "source": [
    "print d\n",
    "print p"
   ]
  },
  {
   "cell_type": "code",
   "execution_count": 30,
   "metadata": {},
   "outputs": [
    {
     "data": {
      "text/plain": [
       "(0.7085499999999999, 1.4630229199047657)"
      ]
     },
     "execution_count": 30,
     "metadata": {},
     "output_type": "execute_result"
    }
   ],
   "source": [
    "st.norm.fit(x)"
   ]
  },
  {
   "cell_type": "code",
   "execution_count": 31,
   "metadata": {},
   "outputs": [
    {
     "data": {
      "text/plain": [
       "KstestResult(statistic=0.3412726940595604, pvalue=6.71492576359145e-11)"
      ]
     },
     "execution_count": 31,
     "metadata": {},
     "output_type": "execute_result"
    }
   ],
   "source": [
    "scipy.stats.kstest(df_an_versp[:100], 'norm')"
   ]
  },
  {
   "cell_type": "code",
   "execution_count": 139,
   "metadata": {},
   "outputs": [],
   "source": []
  },
  {
   "cell_type": "code",
   "execution_count": 58,
   "metadata": {},
   "outputs": [
    {
     "name": "stdout",
     "output_type": "stream",
     "text": [
      " final_simplex: (array([[0.57737691, 1.12254617],\n",
      "       [0.57732317, 1.12259876],\n",
      "       [0.5773791 , 1.12245204]]), array([0.03830497, 0.03830531, 0.0383102 ]))\n",
      "           fun: 0.0383049701386633\n",
      "       message: 'Optimization terminated successfully.'\n",
      "          nfev: 69\n",
      "           nit: 37\n",
      "        status: 0\n",
      "       success: True\n",
      "             x: array([0.57737691, 1.12254617])\n",
      "[0.57737691 1.12254617]\n"
     ]
    }
   ],
   "source": [
    "res = optimize('norm', df_an_versp[:1000])\n",
    "print res\n",
    "print res.x"
   ]
  },
  {
   "cell_type": "code",
   "execution_count": 21,
   "metadata": {},
   "outputs": [
    {
     "name": "stdout",
     "output_type": "stream",
     "text": [
      "1.030665969929204\n",
      "1.867008889399377\n"
     ]
    }
   ],
   "source": [
    "mu = df_an_versp.sum() / len(df_an_versp)\n",
    "print mu\n",
    "rho = (((df_an_versp - mu) ** 2).sum() / len(df_an_versp))**0.5\n",
    "print rho"
   ]
  },
  {
   "cell_type": "code",
   "execution_count": 100,
   "metadata": {},
   "outputs": [
    {
     "data": {
      "text/plain": [
       "48.0"
      ]
     },
     "execution_count": 100,
     "metadata": {},
     "output_type": "execute_result"
    }
   ],
   "source": [
    "h[0].sum()"
   ]
  },
  {
   "cell_type": "code",
   "execution_count": 56,
   "metadata": {},
   "outputs": [],
   "source": [
    "df_an_versp_sorted = sorted(df_an_versp)"
   ]
  },
  {
   "cell_type": "code",
   "execution_count": null,
   "metadata": {},
   "outputs": [],
   "source": []
  },
  {
   "cell_type": "code",
   "execution_count": 154,
   "metadata": {},
   "outputs": [],
   "source": [
    "dist_names = [\n",
    "    'alpha',\n",
    "    'anglit',\n",
    "    'arcsine',\n",
    "    'beta',\n",
    "    'betaprime',\n",
    "    'bradford',\n",
    "    'burr',\n",
    "    'cauchy',\n",
    "    'chi',\n",
    "    'chi2',\n",
    "    'cosine',\n",
    "    'dgamma',\n",
    "    'dweibull',\n",
    "    'erlang',\n",
    "    'expon',\n",
    "    'exponnorm',\n",
    "    'exponweib',\n",
    "    'exponpow',\n",
    "    'f',\n",
    "    'fatiguelife',\n",
    "    'fisk',\n",
    "    'foldcauchy',\n",
    "    'foldnorm',\n",
    "    'frechet_r',\n",
    "    'frechet_l',\n",
    "    'genlogistic',\n",
    "    'genpareto',\n",
    "    'gennorm',\n",
    "    'genexpon',\n",
    "    'genextreme',\n",
    "#     'gausshyper',\n",
    "    'gamma',\n",
    "    'gengamma',\n",
    "    'genhalflogistic',\n",
    "    'gilbrat',\n",
    "    'gompertz',\n",
    "    'gumbel_r',\n",
    "    'gumbel_l',\n",
    "    'halfcauchy',\n",
    "    'halflogistic',\n",
    "    'halfnorm',\n",
    "    'halfgennorm',\n",
    "    'hypsecant',\n",
    "    'invgamma',\n",
    "    'invgauss',\n",
    "    'invweibull',\n",
    "    'johnsonsb',\n",
    "    'johnsonsu',\n",
    "    'ksone',\n",
    "    'kstwobign',\n",
    "    'laplace',\n",
    "    'levy',\n",
    "    'levy_l',\n",
    "#     'levy_stable',\n",
    "    'logistic',\n",
    "    'loggamma',\n",
    "    'loglaplace',\n",
    "    'lognorm',\n",
    "    'lomax',\n",
    "    'maxwell',\n",
    "    'mielke',\n",
    "    'nakagami',\n",
    "    'ncx2',\n",
    "#     'ncf',\n",
    "    'nct',\n",
    "    'norm',\n",
    "    'pareto',\n",
    "    'pearson3',\n",
    "    'powerlaw',\n",
    "    'powerlognorm',\n",
    "    'powernorm',\n",
    "#     'rdist',\n",
    "    'reciprocal',\n",
    "    'rayleigh',\n",
    "    'rice',\n",
    "    'recipinvgauss',\n",
    "    'semicircular',\n",
    "    't',\n",
    "    'triang',\n",
    "    'truncexpon',\n",
    "    'truncnorm',\n",
    "    'tukeylambda',\n",
    "    'uniform',\n",
    "    'vonmises',\n",
    "    'vonmises_line',\n",
    "    'wald',\n",
    "    'weibull_min',\n",
    "    'weibull_max',\n",
    "    'wrapcauchy',\n",
    "]"
   ]
  },
  {
   "cell_type": "code",
   "execution_count": 90,
   "metadata": {},
   "outputs": [
    {
     "data": {
      "text/plain": [
       "array([-5.        , -4.69387755, -4.3877551 , -4.08163265, -3.7755102 ,\n",
       "       -3.46938776, -3.16326531, -2.85714286, -2.55102041, -2.24489796,\n",
       "       -1.93877551, -1.63265306, -1.32653061, -1.02040816, -0.71428571,\n",
       "       -0.40816327, -0.10204082,  0.20408163,  0.51020408,  0.81632653,\n",
       "        1.12244898,  1.42857143,  1.73469388,  2.04081633,  2.34693878,\n",
       "        2.65306122,  2.95918367,  3.26530612,  3.57142857,  3.87755102,\n",
       "        4.18367347,  4.48979592,  4.79591837,  5.10204082,  5.40816327,\n",
       "        5.71428571,  6.02040816,  6.32653061,  6.63265306,  6.93877551,\n",
       "        7.24489796,  7.55102041,  7.85714286,  8.16326531,  8.46938776,\n",
       "        8.7755102 ,  9.08163265,  9.3877551 ,  9.69387755, 10.        ])"
      ]
     },
     "execution_count": 90,
     "metadata": {},
     "output_type": "execute_result"
    }
   ],
   "source": [
    "np.linspace(left, right, retstep=step)[0]"
   ]
  },
  {
   "cell_type": "code",
   "execution_count": 99,
   "metadata": {},
   "outputs": [
    {
     "name": "stdout",
     "output_type": "stream",
     "text": [
      "(array([0.00040306, 0.        , 0.00080613, 0.        , 0.00040306,\n",
      "       0.00080613, 0.00080613, 0.00201532, 0.00322451, 0.0076582 ,\n",
      "       0.01168884, 0.01773478, 0.02176542, 0.02539299, 0.04232164,\n",
      "       0.06328094, 0.09673519, 0.12414349, 0.17734784, 0.23579202,\n",
      "       0.29947602, 0.33051189, 0.34340992, 0.35429262, 0.2942362 ,\n",
      "       0.25151149, 0.24345022, 0.1942765 , 0.14631197, 0.13623539,\n",
      "       0.11285772, 0.08424023, 0.07376058, 0.05642886, 0.03748489,\n",
      "       0.04232164, 0.02982668, 0.02257154, 0.02095929, 0.01652559,\n",
      "       0.00967352, 0.00886739, 0.00806127, 0.00564289, 0.00846433,\n",
      "       0.00322451, 0.00403063, 0.00483676, 0.0044337 , 0.00201532,\n",
      "       0.00322451, 0.00161225, 0.00120919, 0.00201532, 0.00161225,\n",
      "       0.00322451, 0.00161225, 0.00080613, 0.00241838]), array([-5.  , -4.75, -4.5 , -4.25, -4.  , -3.75, -3.5 , -3.25, -3.  ,\n",
      "       -2.75, -2.5 , -2.25, -2.  , -1.75, -1.5 , -1.25, -1.  , -0.75,\n",
      "       -0.5 , -0.25,  0.  ,  0.25,  0.5 ,  0.75,  1.  ,  1.25,  1.5 ,\n",
      "        1.75,  2.  ,  2.25,  2.5 ,  2.75,  3.  ,  3.25,  3.5 ,  3.75,\n",
      "        4.  ,  4.25,  4.5 ,  4.75,  5.  ,  5.25,  5.5 ,  5.75,  6.  ,\n",
      "        6.25,  6.5 ,  6.75,  7.  ,  7.25,  7.5 ,  7.75,  8.  ,  8.25,\n",
      "        8.5 ,  8.75,  9.  ,  9.25,  9.5 ,  9.75]))\n",
      "60\n",
      "59\n",
      "60\n",
      "4.0\n"
     ]
    }
   ],
   "source": [
    "left = -5.0\n",
    "right = 10.0\n",
    "step = 0.25\n",
    "r = np.arange(left, right, step)\n",
    "h_ = np.histogram(df_an_versp[:10000], r, density=True)\n",
    "print h_[:10]\n",
    "print len(r)\n",
    "print len(h_[0])\n",
    "print len(h_[1])\n",
    "print h_[0].sum()"
   ]
  },
  {
   "cell_type": "code",
   "execution_count": 109,
   "metadata": {},
   "outputs": [],
   "source": [
    "r_middle = [(r[i] + r[i + 1]) / 2.0 for i in range(len(r) - 1)]"
   ]
  },
  {
   "cell_type": "code",
   "execution_count": 119,
   "metadata": {},
   "outputs": [
    {
     "ename": "TypeError",
     "evalue": "_parse_args() takes at least 2 arguments (1 given)",
     "output_type": "error",
     "traceback": [
      "\u001b[1;31m---------------------------------------------------------------------------\u001b[0m",
      "\u001b[1;31mTypeError\u001b[0m                                 Traceback (most recent call last)",
      "\u001b[1;32m<ipython-input-119-e88e4a667362>\u001b[0m in \u001b[0;36m<module>\u001b[1;34m()\u001b[0m\n\u001b[1;32m----> 1\u001b[1;33m \u001b[0mexp\u001b[0m \u001b[1;33m=\u001b[0m \u001b[0mst\u001b[0m\u001b[1;33m.\u001b[0m\u001b[0mlognorm\u001b[0m\u001b[1;33m.\u001b[0m\u001b[0mpdf\u001b[0m\u001b[1;33m(\u001b[0m\u001b[0mr_middle\u001b[0m\u001b[1;33m)\u001b[0m\u001b[1;33m\u001b[0m\u001b[0m\n\u001b[0m\u001b[0;32m      2\u001b[0m \u001b[0mexp\u001b[0m\u001b[1;33m\u001b[0m\u001b[0m\n",
      "\u001b[1;32md:\\dev\\swiss-train-delay-distributions\\venv\\lib\\site-packages\\scipy\\stats\\_distn_infrastructure.pyc\u001b[0m in \u001b[0;36mpdf\u001b[1;34m(self, x, *args, **kwds)\u001b[0m\n\u001b[0;32m   1656\u001b[0m \u001b[1;33m\u001b[0m\u001b[0m\n\u001b[0;32m   1657\u001b[0m         \"\"\"\n\u001b[1;32m-> 1658\u001b[1;33m         \u001b[0margs\u001b[0m\u001b[1;33m,\u001b[0m \u001b[0mloc\u001b[0m\u001b[1;33m,\u001b[0m \u001b[0mscale\u001b[0m \u001b[1;33m=\u001b[0m \u001b[0mself\u001b[0m\u001b[1;33m.\u001b[0m\u001b[0m_parse_args\u001b[0m\u001b[1;33m(\u001b[0m\u001b[1;33m*\u001b[0m\u001b[0margs\u001b[0m\u001b[1;33m,\u001b[0m \u001b[1;33m**\u001b[0m\u001b[0mkwds\u001b[0m\u001b[1;33m)\u001b[0m\u001b[1;33m\u001b[0m\u001b[0m\n\u001b[0m\u001b[0;32m   1659\u001b[0m         \u001b[0mx\u001b[0m\u001b[1;33m,\u001b[0m \u001b[0mloc\u001b[0m\u001b[1;33m,\u001b[0m \u001b[0mscale\u001b[0m \u001b[1;33m=\u001b[0m \u001b[0mmap\u001b[0m\u001b[1;33m(\u001b[0m\u001b[0masarray\u001b[0m\u001b[1;33m,\u001b[0m \u001b[1;33m(\u001b[0m\u001b[0mx\u001b[0m\u001b[1;33m,\u001b[0m \u001b[0mloc\u001b[0m\u001b[1;33m,\u001b[0m \u001b[0mscale\u001b[0m\u001b[1;33m)\u001b[0m\u001b[1;33m)\u001b[0m\u001b[1;33m\u001b[0m\u001b[0m\n\u001b[0;32m   1660\u001b[0m         \u001b[0margs\u001b[0m \u001b[1;33m=\u001b[0m \u001b[0mtuple\u001b[0m\u001b[1;33m(\u001b[0m\u001b[0mmap\u001b[0m\u001b[1;33m(\u001b[0m\u001b[0masarray\u001b[0m\u001b[1;33m,\u001b[0m \u001b[0margs\u001b[0m\u001b[1;33m)\u001b[0m\u001b[1;33m)\u001b[0m\u001b[1;33m\u001b[0m\u001b[0m\n",
      "\u001b[1;31mTypeError\u001b[0m: _parse_args() takes at least 2 arguments (1 given)"
     ]
    }
   ],
   "source": [
    "exp = st.norm.pdf(r_middle)\n",
    "exp"
   ]
  },
  {
   "cell_type": "code",
   "execution_count": 111,
   "metadata": {},
   "outputs": [
    {
     "data": {
      "text/plain": [
       "Power_divergenceResult(statistic=1948853842624530.2, pvalue=0.0)"
      ]
     },
     "execution_count": 111,
     "metadata": {},
     "output_type": "execute_result"
    }
   ],
   "source": [
    "from scipy.stats import chisquare\n",
    "chisquare(h_[0], f_exp=exp)"
   ]
  },
  {
   "cell_type": "code",
   "execution_count": 118,
   "metadata": {},
   "outputs": [
    {
     "name": "stdout",
     "output_type": "stream",
     "text": [
      "1948853842624530.2\n",
      "inf\n",
      "0.3021288916659383\n"
     ]
    },
    {
     "name": "stderr",
     "output_type": "stream",
     "text": [
      "d:\\dev\\swiss-train-delay-distributions\\venv\\lib\\site-packages\\ipykernel_launcher.py:2: RuntimeWarning: divide by zero encountered in double_scalars\n",
      "  \n"
     ]
    }
   ],
   "source": [
    "print sum([(h_[0][i] - exp[i])**2 / exp[i] for i in range(len(r_middle))])\n",
    "print sum([(h_[0][i] - exp[i])**2 / h_[0][i] for i in range(len(r_middle))])\n",
    "print sum([(h_[0][i] - exp[i])**2 for i in range(len(r_middle))])"
   ]
  },
  {
   "cell_type": "code",
   "execution_count": 103,
   "metadata": {},
   "outputs": [
    {
     "data": {
      "text/plain": [
       "3.9999994453441206"
      ]
     },
     "execution_count": 103,
     "metadata": {},
     "output_type": "execute_result"
    }
   ],
   "source": [
    "exp"
   ]
  },
  {
   "cell_type": "code",
   "execution_count": 150,
   "metadata": {},
   "outputs": [],
   "source": [
    "def optimize(dist_name, data, opt_type='kst'):\n",
    "    dist = getattr(scipy.stats, dist_name)\n",
    "    first_guess = dist.fit(data)\n",
    "    def fun_eval(act_paras, opt_type=opt_type):\n",
    "        if opt_type == 'kst':\n",
    "            d, p = scipy.stats.kstest(data, dist_name, act_paras)\n",
    "            return d\n",
    "        elif opt_type == 'cst':\n",
    "            left = -5.0\n",
    "            right = 10.0000000000000001\n",
    "            step = 0.25\n",
    "            r = np.arange(left, right, step)\n",
    "            hist_emp = np.histogram(data, r, density=True)[0]\n",
    "            r_m = np.array([(r[i] + r[i + 1]) / 2.0 for i in range(len(r) - 1)])\n",
    "            hist_exp = dist.pdf(r_m, *act_paras[:-2], loc=act_paras[-2], scale=act_paras[-1])\n",
    "            return st.chisquare(hist_emp, f_exp=hist_exp).statistic\n",
    "        elif opt_type == 'ss':\n",
    "            left = -5.0\n",
    "            right = 10.0000000000000001\n",
    "            step = 0.25\n",
    "            r = np.arange(left, right, step)\n",
    "            hist_emp = np.histogram(data, r, density=True)[0]\n",
    "            r_m = np.array([(r[i] + r[i + 1]) / 2.0 for i in range(len(r) - 1)])\n",
    "            hist_exp = dist.pdf(r_m, *act_paras[:-2], loc=act_paras[-2], scale=act_paras[-1])\n",
    "            return np.power(hist_emp - hist_exp, 2.0).sum()\n",
    "        elif opt_type == 'as':\n",
    "            left = -5.0\n",
    "            right = 10.0000000000000001\n",
    "            step = 0.25\n",
    "            r = np.arange(left, right, step)\n",
    "            hist_emp = np.histogram(data, r, density=True)[0]\n",
    "            r_m = np.array([(r[i] + r[i + 1]) / 2.0 for i in range(len(r) - 1)])\n",
    "            hist_exp = dist.pdf(r_m, *act_paras[:-2], loc=act_paras[-2], scale=act_paras[-1])\n",
    "            return np.absolute(hist_emp - hist_exp).sum()\n",
    "        else:\n",
    "            raise ValueError(\"{} is not a valid argument\".format(opt_type))\n",
    "    opt_paras = minimize(fun_eval, first_guess, method='nelder-mead')\n",
    "    return opt_paras"
   ]
  },
  {
   "cell_type": "code",
   "execution_count": 155,
   "metadata": {},
   "outputs": [
    {
     "name": "stdout",
     "output_type": "stream",
     "text": [
      "alpha\n",
      "anglit\n",
      "arcsine\n",
      "beta\n",
      "betaprime\n",
      "bradford\n",
      "burr\n",
      "cauchy\n",
      "chi\n",
      "chi2\n",
      "cosine\n",
      "dgamma\n",
      "dweibull\n",
      "erlang\n",
      "expon\n",
      "exponnorm\n",
      "exponweib\n",
      "exponpow\n",
      "f\n",
      "fatiguelife\n",
      "fisk\n",
      "foldcauchy\n",
      "foldnorm\n",
      "frechet_r\n"
     ]
    },
    {
     "name": "stderr",
     "output_type": "stream",
     "text": [
      "d:\\dev\\swiss-train-delay-distributions\\venv\\lib\\site-packages\\ipykernel_launcher.py:3: DeprecationWarning: `frechet_r` is deprecated!\n",
      "The distribution `frechet_r` is a synonym for `weibull_min`; this historical\n",
      "usage is deprecated because of possible confusion with the (quite different)\n",
      "Frechet distribution.  To preserve the existing behavior of the program, use\n",
      "`scipy.stats.weibull_min`.  For the Frechet distribution (i.e. the Type II\n",
      "extreme value distribution), use `scipy.stats.invweibull`.\n",
      "  This is separate from the ipykernel package so we can avoid doing imports until\n",
      "d:\\dev\\swiss-train-delay-distributions\\venv\\lib\\site-packages\\ipykernel_launcher.py:33: DeprecationWarning: `frechet_r` is deprecated!\n",
      "The distribution `frechet_r` is a synonym for `weibull_min`; this historical\n",
      "usage is deprecated because of possible confusion with the (quite different)\n",
      "Frechet distribution.  To preserve the existing behavior of the program, use\n",
      "`scipy.stats.weibull_min`.  For the Frechet distribution (i.e. the Type II\n",
      "extreme value distribution), use `scipy.stats.invweibull`.\n"
     ]
    },
    {
     "name": "stdout",
     "output_type": "stream",
     "text": [
      "frechet_l\n"
     ]
    },
    {
     "name": "stderr",
     "output_type": "stream",
     "text": [
      "d:\\dev\\swiss-train-delay-distributions\\venv\\lib\\site-packages\\ipykernel_launcher.py:3: DeprecationWarning: `frechet_l` is deprecated!\n",
      "The distribution `frechet_l` is a synonym for `weibull_max`; this historical\n",
      "usage is deprecated because of possible confusion with the (quite different)\n",
      "Frechet distribution.  To preserve the existing behavior of the program, use\n",
      "`scipy.stats.weibull_max`.  For the Frechet distribution (i.e. the Type II\n",
      "extreme value distribution), use `scipy.stats.invweibull`.\n",
      "  This is separate from the ipykernel package so we can avoid doing imports until\n",
      "d:\\dev\\swiss-train-delay-distributions\\venv\\lib\\site-packages\\ipykernel_launcher.py:33: DeprecationWarning: `frechet_l` is deprecated!\n",
      "The distribution `frechet_l` is a synonym for `weibull_max`; this historical\n",
      "usage is deprecated because of possible confusion with the (quite different)\n",
      "Frechet distribution.  To preserve the existing behavior of the program, use\n",
      "`scipy.stats.weibull_max`.  For the Frechet distribution (i.e. the Type II\n",
      "extreme value distribution), use `scipy.stats.invweibull`.\n"
     ]
    },
    {
     "name": "stdout",
     "output_type": "stream",
     "text": [
      "genlogistic\n",
      "genpareto\n",
      "gennorm\n",
      "genexpon\n",
      "genextreme\n",
      "gamma\n",
      "gengamma\n",
      "genhalflogistic\n",
      "gilbrat\n",
      "gompertz\n",
      "gumbel_r\n",
      "gumbel_l\n",
      "halfcauchy\n",
      "halflogistic\n",
      "halfnorm\n",
      "halfgennorm\n",
      "hypsecant\n",
      "invgamma\n",
      "invgauss\n",
      "invweibull\n"
     ]
    },
    {
     "name": "stderr",
     "output_type": "stream",
     "text": [
      "d:\\dev\\swiss-train-delay-distributions\\venv\\lib\\site-packages\\scipy\\stats\\_continuous_distns.py:3416: RuntimeWarning: overflow encountered in power\n",
      "  xc1 = np.power(x, -c - 1.0)\n",
      "d:\\dev\\swiss-train-delay-distributions\\venv\\lib\\site-packages\\scipy\\stats\\_continuous_distns.py:3417: RuntimeWarning: overflow encountered in power\n",
      "  xc2 = np.power(x, -c)\n",
      "d:\\dev\\swiss-train-delay-distributions\\venv\\lib\\site-packages\\scipy\\stats\\_continuous_distns.py:3419: RuntimeWarning: invalid value encountered in multiply\n",
      "  return c * xc1 * xc2\n"
     ]
    },
    {
     "name": "stdout",
     "output_type": "stream",
     "text": [
      "johnsonsb\n",
      "johnsonsu\n",
      "ksone\n",
      "kstwobign\n",
      "laplace\n",
      "levy\n",
      "levy_l\n",
      "logistic\n",
      "loggamma\n",
      "loglaplace\n",
      "lognorm\n",
      "lomax\n",
      "maxwell\n",
      "mielke\n"
     ]
    },
    {
     "name": "stderr",
     "output_type": "stream",
     "text": [
      "d:\\dev\\swiss-train-delay-distributions\\venv\\lib\\site-packages\\scipy\\stats\\_continuous_distns.py:4578: RuntimeWarning: overflow encountered in power\n",
      "  return k*x**(k-1.0) / (1.0+x**s)**(1.0+k*1.0/s)\n",
      "d:\\dev\\swiss-train-delay-distributions\\venv\\lib\\site-packages\\scipy\\stats\\_continuous_distns.py:4578: RuntimeWarning: invalid value encountered in true_divide\n",
      "  return k*x**(k-1.0) / (1.0+x**s)**(1.0+k*1.0/s)\n"
     ]
    },
    {
     "name": "stdout",
     "output_type": "stream",
     "text": [
      "nakagami\n",
      "ncx2\n",
      "nct\n",
      "norm\n",
      "pareto\n",
      "pearson3\n",
      "powerlaw\n",
      "powerlognorm\n",
      "powernorm\n",
      "reciprocal\n",
      "rayleigh\n",
      "rice\n",
      "recipinvgauss\n",
      "semicircular\n",
      "t\n",
      "triang\n",
      "truncexpon\n",
      "truncnorm\n",
      "tukeylambda\n",
      "uniform\n",
      "vonmises\n",
      "vonmises_line\n",
      "wald\n",
      "weibull_min\n",
      "weibull_max\n",
      "wrapcauchy\n"
     ]
    },
    {
     "name": "stderr",
     "output_type": "stream",
     "text": [
      "d:\\dev\\swiss-train-delay-distributions\\venv\\lib\\site-packages\\ipykernel_launcher.py:48: DeprecationWarning: `frechet_l` is deprecated!\n",
      "The distribution `frechet_l` is a synonym for `weibull_max`; this historical\n",
      "usage is deprecated because of possible confusion with the (quite different)\n",
      "Frechet distribution.  To preserve the existing behavior of the program, use\n",
      "`scipy.stats.weibull_max`.  For the Frechet distribution (i.e. the Type II\n",
      "extreme value distribution), use `scipy.stats.invweibull`.\n"
     ]
    },
    {
     "data": {
      "image/png": "[encoded data removed]",
      "text/plain": [
       "<Figure size 936x648 with 1 Axes>"
      ]
     },
     "metadata": {
      "needs_background": "light"
     },
     "output_type": "display_data"
    }
   ],
   "source": [
    "left = -5.0\n",
    "right = 10.0\n",
    "step = 0.25\n",
    "x = np.arange(left, right, step)\n",
    "y = np.array(df_an_versp[:10000])\n",
    "plt.figure(figsize=(13,9))\n",
    "h = plt.hist(y, bins=x, color='black', density=False)\n",
    "\n",
    "# dist_names = [\n",
    "#     'norm', \n",
    "#     'lognorm',\n",
    "#     'weibull_min',\n",
    "#      'weibull_max',\n",
    "#     'alpha',\n",
    "#     'cauchy',\n",
    "#     'powerlognorm',\n",
    "#     'chi',\n",
    "#     'erlang',\n",
    "#     'expon',\n",
    "#     'gamma',\n",
    "#     'gumbel_r',\n",
    "#     'halfcauchy',\n",
    "#     'maxwell',\n",
    "#     'wald',\n",
    "#     'levy',\n",
    "# #     'levy_stable',\n",
    "#     'levy_l',\n",
    "#     'pareto',\n",
    "# ]\n",
    "\n",
    "res_per_dist_name = {}\n",
    "\n",
    "for dist_name in dist_names:\n",
    "    print dist_name\n",
    "    try:\n",
    "        res = optimize(dist_name, y, opt_type='as')\n",
    "        res_per_dist_name[dist_name] = res\n",
    "        param = res.x\n",
    "#         print res\n",
    "    except Exception as e:\n",
    "        print \"no success: {}\".format(e)\n",
    "\n",
    "sorted_dist_name_res_pairs = sorted(res_per_dist_name.items(), key=lambda p: p[1].fun)\n",
    "\n",
    "for dist_name, res in sorted_dist_name_res_pairs[:5]:\n",
    "        dist = getattr(scipy.stats, dist_name)\n",
    "        param = res.x\n",
    "        pdf_fitted = dist.pdf(np.arange(left, right, 0.05), *param[:-2], loc=param[-2], scale=param[-1]) * h[0].sum() * step\n",
    "        plt.plot(np.arange(left, right, 0.05), pdf_fitted, label=\"{} {:.4f} {}\".format(dist_name, res.fun, res.success))\n",
    "        plt.xlim(x[0], x[-1])\n",
    "\n",
    "plt.legend(loc='upper right')\n",
    "plt.show()"
   ]
  },
  {
   "cell_type": "code",
   "execution_count": 54,
   "metadata": {},
   "outputs": [],
   "source": [
    "def l(x, mu, rho):\n",
    "    return np.sum(np.log(scipy.stats.norm.pdf(x, mu, rho)))"
   ]
  },
  {
   "cell_type": "code",
   "execution_count": 55,
   "metadata": {},
   "outputs": [
    {
     "name": "stderr",
     "output_type": "stream",
     "text": [
      "c:\\dev\\swiss-train-delay-distributions\\venv\\lib\\site-packages\\ipykernel_launcher.py:2: RuntimeWarning: divide by zero encountered in log\n",
      "  \n"
     ]
    },
    {
     "data": {
      "text/plain": [
       "-inf"
      ]
     },
     "execution_count": 55,
     "metadata": {},
     "output_type": "execute_result"
    }
   ],
   "source": [
    "l(df_an_versp, 1.03, 1.86)"
   ]
  },
  {
   "cell_type": "code",
   "execution_count": 52,
   "metadata": {},
   "outputs": [
    {
     "data": {
      "text/plain": [
       "0.6931471805599453"
      ]
     },
     "execution_count": 52,
     "metadata": {},
     "output_type": "execute_result"
    }
   ],
   "source": [
    "np.log(2)"
   ]
  },
  {
   "cell_type": "code",
   "execution_count": 37,
   "metadata": {},
   "outputs": [
    {
     "data": {
      "image/png": "[encoded data removed]",
      "text/plain": [
       "<Figure size 936x648 with 1 Axes>"
      ]
     },
     "metadata": {
      "needs_background": "light"
     },
     "output_type": "display_data"
    }
   ],
   "source": [
    "size = 30000\n",
    "x = scipy.arange(size)\n",
    "y = scipy.int_(scipy.round_(scipy.stats.vonmises.rvs(5,size=size)*47))\n",
    "plt.figure(figsize=(13,9))\n",
    "h = plt.hist(y, bins=range(48), color='black')\n",
    "\n",
    "dist_names = ['gamma', 'beta', 'rayleigh', 'norm', 'pareto']\n",
    "\n",
    "for dist_name in dist_names:\n",
    "    dist = getattr(scipy.stats, dist_name)\n",
    "    param = dist.fit(y)\n",
    "    pdf_fitted = dist.pdf(x, *param[:-2], loc=param[-2], scale=param[-1]) * size\n",
    "    plt.plot(pdf_fitted, label=dist_name)\n",
    "    plt.xlim(0,47)\n",
    "plt.legend(loc='upper right')\n",
    "plt.show()"
   ]
  },
  {
   "cell_type": "code",
   "execution_count": null,
   "metadata": {},
   "outputs": [],
   "source": []
  },
  {
   "cell_type": "code",
   "execution_count": 70,
   "metadata": {},
   "outputs": [],
   "source": [
    "DISTRIBUTIONS = [        \n",
    "        st.alpha,st.anglit,st.arcsine,st.beta,st.betaprime,st.bradford,st.burr,st.cauchy,st.chi,st.chi2,st.cosine,\n",
    "        st.dgamma,st.dweibull,st.erlang,st.expon,st.exponnorm,st.exponweib,st.exponpow,st.f,st.fatiguelife,st.fisk,\n",
    "        st.foldcauchy,st.foldnorm,st.frechet_r,st.frechet_l,st.genlogistic,st.genpareto,st.gennorm,st.genexpon,\n",
    "        st.genextreme,st.gausshyper,st.gamma,st.gengamma,st.genhalflogistic,st.gilbrat,st.gompertz,st.gumbel_r,\n",
    "        st.gumbel_l,st.halfcauchy,st.halflogistic,st.halfnorm,st.halfgennorm,st.hypsecant,st.invgamma,st.invgauss,\n",
    "        st.invweibull,st.johnsonsb,st.johnsonsu,st.ksone,st.kstwobign,st.laplace,st.levy,st.levy_l,st.levy_stable,\n",
    "        st.logistic,st.loggamma,st.loglaplace,st.lognorm,st.lomax,st.maxwell,st.mielke,st.nakagami,st.ncx2,st.ncf,\n",
    "        st.nct,st.norm,st.pareto,st.pearson3,st.powerlaw,st.powerlognorm,st.powernorm,st.rdist,st.reciprocal,\n",
    "        st.rayleigh,st.rice,st.recipinvgauss,st.semicircular,st.t,st.triang,st.truncexpon,st.truncnorm,st.tukeylambda,\n",
    "        st.uniform,st.vonmises,st.vonmises_line,st.wald,st.weibull_min,st.weibull_max,st.wrapcauchy\n",
    "]"
   ]
  },
  {
   "cell_type": "code",
   "execution_count": 74,
   "metadata": {},
   "outputs": [
    {
     "name": "stdout",
     "output_type": "stream",
     "text": [
      "[   'alpha',\n",
      "    'anglit',\n",
      "    'arcsine',\n",
      "    'beta',\n",
      "    'betaprime',\n",
      "    'bradford',\n",
      "    'burr',\n",
      "    'cauchy',\n",
      "    'chi',\n",
      "    'chi2',\n",
      "    'cosine',\n",
      "    'dgamma',\n",
      "    'dweibull',\n",
      "    'erlang',\n",
      "    'expon',\n",
      "    'exponnorm',\n",
      "    'exponweib',\n",
      "    'exponpow',\n",
      "    'f',\n",
      "    'fatiguelife',\n",
      "    'fisk',\n",
      "    'foldcauchy',\n",
      "    'foldnorm',\n",
      "    'frechet_r',\n",
      "    'frechet_l',\n",
      "    'genlogistic',\n",
      "    'genpareto',\n",
      "    'gennorm',\n",
      "    'genexpon',\n",
      "    'genextreme',\n",
      "    'gausshyper',\n",
      "    'gamma',\n",
      "    'gengamma',\n",
      "    'genhalflogistic',\n",
      "    'gilbrat',\n",
      "    'gompertz',\n",
      "    'gumbel_r',\n",
      "    'gumbel_l',\n",
      "    'halfcauchy',\n",
      "    'halflogistic',\n",
      "    'halfnorm',\n",
      "    'halfgennorm',\n",
      "    'hypsecant',\n",
      "    'invgamma',\n",
      "    'invgauss',\n",
      "    'invweibull',\n",
      "    'johnsonsb',\n",
      "    'johnsonsu',\n",
      "    'ksone',\n",
      "    'kstwobign',\n",
      "    'laplace',\n",
      "    'levy',\n",
      "    'levy_l',\n",
      "    'levy_stable',\n",
      "    'logistic',\n",
      "    'loggamma',\n",
      "    'loglaplace',\n",
      "    'lognorm',\n",
      "    'lomax',\n",
      "    'maxwell',\n",
      "    'mielke',\n",
      "    'nakagami',\n",
      "    'ncx2',\n",
      "    'ncf',\n",
      "    'nct',\n",
      "    'norm',\n",
      "    'pareto',\n",
      "    'pearson3',\n",
      "    'powerlaw',\n",
      "    'powerlognorm',\n",
      "    'powernorm',\n",
      "    'rdist',\n",
      "    'reciprocal',\n",
      "    'rayleigh',\n",
      "    'rice',\n",
      "    'recipinvgauss',\n",
      "    'semicircular',\n",
      "    't',\n",
      "    'triang',\n",
      "    'truncexpon',\n",
      "    'truncnorm',\n",
      "    'tukeylambda',\n",
      "    'uniform',\n",
      "    'vonmises',\n",
      "    'vonmises_line',\n",
      "    'wald',\n",
      "    'weibull_min',\n",
      "    'weibull_max',\n",
      "    'wrapcauchy']\n"
     ]
    }
   ],
   "source": [
    "import pprint\n",
    "pp = pprint.PrettyPrinter(indent=4)\n",
    "l = [x.name for x in DISTRIBUTIONS]\n",
    "pp.pprint(l)\n"
   ]
  },
  {
   "cell_type": "code",
   "execution_count": 26,
   "metadata": {},
   "outputs": [
    {
     "name": "stdout",
     "output_type": "stream",
     "text": [
      "<scipy.stats._continuous_distns.norm_gen object at 0x000000001A5C4FD0>\n",
      "(1.8730592957590526, 1.9505348885236902)\n",
      "<scipy.stats._continuous_distns.lognorm_gen object at 0x000000001A6DA470>\n",
      "(0.029979520487039578, -65.99999974593283, 67.8501667811208)\n"
     ]
    }
   ],
   "source": [
    "y, x = np.histogram(list(df_an_versp), bins=)\n",
    "for distribution in [st.norm, st.lognorm]:\n",
    "    print distribution\n",
    "    try:\n",
    "        params = distribution.fit(list(df_ab_versp))\n",
    "        print params\n",
    "    except Exception as e:\n",
    "        print e"
   ]
  },
  {
   "cell_type": "code",
   "execution_count": 30,
   "metadata": {},
   "outputs": [
    {
     "name": "stderr",
     "output_type": "stream",
     "text": [
      "d:\\dev\\swiss-train-delay-distributions\\venv\\lib\\site-packages\\matplotlib\\axes\\_axes.py:6571: UserWarning: The 'normed' kwarg is deprecated, and has been replaced by the 'density' kwarg.\n",
      "  warnings.warn(\"The 'normed' kwarg is deprecated, and has been \"\n",
      "d:\\dev\\swiss-train-delay-distributions\\venv\\lib\\site-packages\\matplotlib\\axes\\_axes.py:6571: UserWarning: The 'normed' kwarg is deprecated, and has been replaced by the 'density' kwarg.\n",
      "  warnings.warn(\"The 'normed' kwarg is deprecated, and has been \"\n"
     ]
    },
    {
     "data": {
      "text/plain": [
       "Text(0,0.5,'Frequency')"
      ]
     },
     "execution_count": 30,
     "metadata": {},
     "output_type": "execute_result"
    },
    {
     "data": {
      "image/png": "[encoded data removed]",
      "text/plain": [
       "<Figure size 864x576 with 1 Axes>"
      ]
     },
     "metadata": {},
     "output_type": "display_data"
    },
    {
     "data": {
      "image/png": "[encoded data removed]",
      "text/plain": [
       "<Figure size 864x576 with 1 Axes>"
      ]
     },
     "metadata": {},
     "output_type": "display_data"
    }
   ],
   "source": [
    "# https://stackoverflow.com/questions/6620471/fitting-empirical-distribution-to-theoretical-ones-with-scipy-python\n",
    "%matplotlib inline\n",
    "\n",
    "import warnings\n",
    "import numpy as np\n",
    "import pandas as pd\n",
    "import scipy.stats as st\n",
    "import statsmodels as sm\n",
    "import matplotlib\n",
    "import matplotlib.pyplot as plt\n",
    "\n",
    "matplotlib.rcParams['figure.figsize'] = (16.0, 12.0)\n",
    "matplotlib.style.use('ggplot')\n",
    "\n",
    "# Create models from data\n",
    "def best_fit_distribution(data, bins=an_range, ax=None):\n",
    "    \"\"\"Model data by finding best fit distribution to data\"\"\"\n",
    "    # Get histogram of original data\n",
    "    y, x = np.histogram(data, bins=bins, density=True)\n",
    "    x = (x + np.roll(x, -1))[:-1] / 2.0\n",
    "\n",
    "    # Distributions to check\n",
    "    DISTRIBUTIONS = [        \n",
    "#         st.alpha,st.anglit,st.arcsine,st.beta,st.betaprime,st.bradford,st.burr,st.cauchy,st.chi,st.chi2,st.cosine,\n",
    "#         st.dgamma,st.dweibull,st.erlang,st.expon,st.exponnorm,st.exponweib,st.exponpow,st.f,st.fatiguelife,st.fisk,\n",
    "#         st.foldcauchy,st.foldnorm,st.frechet_r,st.frechet_l,st.genlogistic,st.genpareto,st.gennorm,st.genexpon,\n",
    "#         st.genextreme,st.gausshyper,st.gamma,st.gengamma,st.genhalflogistic,st.gilbrat,st.gompertz,st.gumbel_r,\n",
    "#         st.gumbel_l,st.halfcauchy,st.halflogistic,st.halfnorm,st.halfgennorm,st.hypsecant,st.invgamma,st.invgauss,\n",
    "#         st.invweibull,st.johnsonsb,st.johnsonsu,st.ksone,st.kstwobign,st.laplace,st.levy,st.levy_l,st.levy_stable,\n",
    "#         st.logistic,st.loggamma,st.loglaplace,st.lognorm,st.lomax,st.maxwell,st.mielke,st.nakagami,st.ncx2,st.ncf,\n",
    "#         st.nct,st.norm,st.pareto,st.pearson3,st.powerlaw,st.powerlognorm,st.powernorm,st.rdist,st.reciprocal,\n",
    "#         st.rayleigh,st.rice,st.recipinvgauss,st.semicircular,st.t,st.triang,st.truncexpon,st.truncnorm,st.tukeylambda,\n",
    "#         st.uniform,st.vonmises,st.vonmises_line,st.wald,st.weibull_min,st.weibull_max,st.wrapcauchy\n",
    "        st.norm,\n",
    "        st.lognorm\n",
    "    ]\n",
    "\n",
    "    # Best holders\n",
    "    best_distribution = st.norm\n",
    "    best_params = (0.0, 1.0)\n",
    "    best_sse = np.inf\n",
    "\n",
    "    # Estimate distribution parameters from data\n",
    "    for distribution in DISTRIBUTIONS:\n",
    "\n",
    "        # Try to fit the distribution\n",
    "        try:\n",
    "            # Ignore warnings from data that can't be fit\n",
    "            with warnings.catch_warnings():\n",
    "                warnings.filterwarnings('ignore')\n",
    "\n",
    "                # fit dist to data\n",
    "                params = distribution.fit(data)\n",
    "\n",
    "                # Separate parts of parameters\n",
    "                arg = params[:-2]\n",
    "                loc = params[-2]\n",
    "                scale = params[-1]\n",
    "\n",
    "                # Calculate fitted PDF and error with fit in distribution\n",
    "                pdf = distribution.pdf(x, loc=loc, scale=scale, *arg)\n",
    "                sse = np.sum(np.power(y - pdf, 2.0))\n",
    "\n",
    "                # if axis pass in add to plot\n",
    "                try:\n",
    "                    if ax:\n",
    "                        pd.Series(pdf, x).plot(ax=ax)\n",
    "                    end\n",
    "                except Exception:\n",
    "                    pass\n",
    "\n",
    "                # identify if this distribution is better\n",
    "                if best_sse > sse > 0:\n",
    "                    best_distribution = distribution\n",
    "                    best_params = params\n",
    "                    best_sse = sse\n",
    "\n",
    "        except Exception:\n",
    "            pass\n",
    "\n",
    "    return (best_distribution.name, best_params)\n",
    "\n",
    "def make_pdf(dist, params, size=10000):\n",
    "    \"\"\"Generate distributions's Probability Distribution Function \"\"\"\n",
    "\n",
    "    # Separate parts of parameters\n",
    "    arg = params[:-2]\n",
    "    loc = params[-2]\n",
    "    scale = params[-1]\n",
    "\n",
    "    # Get sane start and end points of distribution\n",
    "    start = dist.ppf(0.01, *arg, loc=loc, scale=scale) if arg else dist.ppf(0.01, loc=loc, scale=scale)\n",
    "    end = dist.ppf(0.99, *arg, loc=loc, scale=scale) if arg else dist.ppf(0.99, loc=loc, scale=scale)\n",
    "\n",
    "    # Build PDF and turn into pandas Series\n",
    "    x = np.linspace(start, end, size)\n",
    "    y = dist.pdf(x, loc=loc, scale=scale, *arg)\n",
    "    pdf = pd.Series(y, x)\n",
    "\n",
    "    return pdf\n",
    "\n",
    "# Load data from statsmodels datasets\n",
    "data = df_an_versp\n",
    "\n",
    "# Plot for comparison\n",
    "plt.figure(figsize=(12,8))\n",
    "ax = data.plot(kind='hist', bins=50, normed=True, alpha=0.5,\n",
    "#                color=plt.rcParams['axes.color_cycle'][1]\n",
    "              )\n",
    "# Save plot limits\n",
    "dataYLim = ax.get_ylim()\n",
    "\n",
    "# Find best fit distribution\n",
    "best_fit_name, best_fit_params = best_fit_distribution(data, 200, ax)\n",
    "best_dist = getattr(st, best_fit_name)\n",
    "\n",
    "# Update plots\n",
    "ax.set_ylim(dataYLim)\n",
    "ax.set_title(u'El Niño sea temp.\\n All Fitted Distributions')\n",
    "ax.set_xlabel(u'Temp (°C)')\n",
    "ax.set_ylabel('Frequency')\n",
    "\n",
    "# Make PDF with best params \n",
    "pdf = make_pdf(best_dist, best_fit_params)\n",
    "\n",
    "# Display\n",
    "plt.figure(figsize=(12,8))\n",
    "ax = pdf.plot(lw=2, label='PDF', legend=True)\n",
    "data.plot(kind='hist', bins=50, normed=True, alpha=0.5, label='Data', legend=True, ax=ax)\n",
    "\n",
    "param_names = (best_dist.shapes + ', loc, scale').split(', ') if best_dist.shapes else ['loc', 'scale']\n",
    "param_str = ', '.join(['{}={:0.2f}'.format(k,v) for k,v in zip(param_names, best_fit_params)])\n",
    "dist_str = '{}({})'.format(best_fit_name, param_str)\n",
    "\n",
    "ax.set_title(u'El Niño sea temp. with best fit distribution \\n' + dist_str)\n",
    "ax.set_xlabel(u'Temp. (°C)')\n",
    "ax.set_ylabel('Frequency')"
   ]
  },
  {
   "cell_type": "code",
   "execution_count": null,
   "metadata": {},
   "outputs": [],
   "source": []
  }
 ],
 "metadata": {
  "kernelspec": {
   "display_name": "Python 2",
   "language": "python",
   "name": "python2"
  },
  "language_info": {
   "codemirror_mode": {
    "name": "ipython",
    "version": 2
   },
   "file_extension": ".py",
   "mimetype": "text/x-python",
   "name": "python",
   "nbconvert_exporter": "python",
   "pygments_lexer": "ipython2",
   "version": "2.7.13"
  }
 },
 "nbformat": 4,
 "nbformat_minor": 2
}
