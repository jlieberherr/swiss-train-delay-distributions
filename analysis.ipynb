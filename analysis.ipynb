{
 "cells": [
  {
   "cell_type": "code",
   "execution_count": 1,
   "metadata": {},
   "outputs": [],
   "source": [
    "import sys\n",
    "import os\n",
    "\n",
    "import pandas as pd\n",
    "import matplotlib\n",
    "import numpy as np\n",
    "import matplotlib.pyplot as plt\n",
    "\n",
    "import scipy\n",
    "import scipy.stats as st\n",
    "from scipy.optimize import minimize\n",
    "\n",
    "%matplotlib inline"
   ]
  },
  {
   "cell_type": "markdown",
   "metadata": {},
   "source": [
    "# Import data"
   ]
  },
  {
   "cell_type": "code",
   "execution_count": 12,
   "metadata": {},
   "outputs": [],
   "source": [
    "path_data = os.path.join(\"data\", \"processed_2_small.csv\")"
   ]
  },
  {
   "cell_type": "code",
   "execution_count": 13,
   "metadata": {},
   "outputs": [
    {
     "name": "stdout",
     "output_type": "stream",
     "text": [
      "# rows: 999996\n",
      "Wall time: 1.97 s\n"
     ]
    }
   ],
   "source": [
    "%%time\n",
    "df = pd.read_csv(path_data, sep=\";\")\n",
    "print \"# rows: {}\".format(len(df))"
   ]
  },
  {
   "cell_type": "code",
   "execution_count": 14,
   "metadata": {},
   "outputs": [
    {
     "data": {
      "text/plain": [
       "BETRIEBSTAG            object\n",
       "FAHRT_BEZEICHNER       object\n",
       "BETREIBER_ID           object\n",
       "VERKEHRSMITTEL_TEXT    object\n",
       "BPUIC                   int64\n",
       "ANKUNFTSZEIT           object\n",
       "AN_PROGNOSE            object\n",
       "ABFAHRTSZEIT           object\n",
       "AB_PROGNOSE            object\n",
       "dtype: object"
      ]
     },
     "execution_count": 14,
     "metadata": {},
     "output_type": "execute_result"
    }
   ],
   "source": [
    "df.dtypes"
   ]
  },
  {
   "cell_type": "code",
   "execution_count": 15,
   "metadata": {},
   "outputs": [],
   "source": [
    "dateparser_ddmmyyy = '%d.%m.%Y'\n",
    "dateparser_ddmmyyHHMM = '%d.%m.%Y %H:%M'\n",
    "dateparser_ddmmyyHHMMSS = '%d.%m.%Y %H:%M:%S'"
   ]
  },
  {
   "cell_type": "code",
   "execution_count": 16,
   "metadata": {},
   "outputs": [
    {
     "name": "stdout",
     "output_type": "stream",
     "text": [
      "Wall time: 21.5 s\n"
     ]
    }
   ],
   "source": [
    "%%time\n",
    "df[\"BETRIEBSTAG\"] = pd.to_datetime(df[\"BETRIEBSTAG\"], format=dateparser_ddmmyyy)\n",
    "df[\"ANKUNFTSZEIT\"] = pd.to_datetime(df[\"ANKUNFTSZEIT\"], format=dateparser_ddmmyyHHMM)\n",
    "df[\"AN_PROGNOSE\"] = pd.to_datetime(df[\"AN_PROGNOSE\"], format=dateparser_ddmmyyHHMMSS)\n",
    "df[\"ABFAHRTSZEIT\"] = pd.to_datetime(df[\"ABFAHRTSZEIT\"], format=dateparser_ddmmyyHHMM)\n",
    "df[\"AB_PROGNOSE\"] = pd.to_datetime(df[\"AB_PROGNOSE\"], format=dateparser_ddmmyyHHMMSS)"
   ]
  },
  {
   "cell_type": "code",
   "execution_count": 17,
   "metadata": {},
   "outputs": [
    {
     "data": {
      "text/plain": [
       "BETRIEBSTAG            datetime64[ns]\n",
       "FAHRT_BEZEICHNER               object\n",
       "BETREIBER_ID                   object\n",
       "VERKEHRSMITTEL_TEXT            object\n",
       "BPUIC                           int64\n",
       "ANKUNFTSZEIT           datetime64[ns]\n",
       "AN_PROGNOSE            datetime64[ns]\n",
       "ABFAHRTSZEIT           datetime64[ns]\n",
       "AB_PROGNOSE            datetime64[ns]\n",
       "dtype: object"
      ]
     },
     "execution_count": 17,
     "metadata": {},
     "output_type": "execute_result"
    }
   ],
   "source": [
    "df.dtypes"
   ]
  },
  {
   "cell_type": "code",
   "execution_count": 18,
   "metadata": {},
   "outputs": [
    {
     "data": {
      "text/html": [
       "<div>\n",
       "<style scoped>\n",
       "    .dataframe tbody tr th:only-of-type {\n",
       "        vertical-align: middle;\n",
       "    }\n",
       "\n",
       "    .dataframe tbody tr th {\n",
       "        vertical-align: top;\n",
       "    }\n",
       "\n",
       "    .dataframe thead th {\n",
       "        text-align: right;\n",
       "    }\n",
       "</style>\n",
       "<table border=\"1\" class=\"dataframe\">\n",
       "  <thead>\n",
       "    <tr style=\"text-align: right;\">\n",
       "      <th></th>\n",
       "      <th>BETRIEBSTAG</th>\n",
       "      <th>FAHRT_BEZEICHNER</th>\n",
       "      <th>BETREIBER_ID</th>\n",
       "      <th>VERKEHRSMITTEL_TEXT</th>\n",
       "      <th>BPUIC</th>\n",
       "      <th>ANKUNFTSZEIT</th>\n",
       "      <th>AN_PROGNOSE</th>\n",
       "      <th>ABFAHRTSZEIT</th>\n",
       "      <th>AB_PROGNOSE</th>\n",
       "    </tr>\n",
       "  </thead>\n",
       "  <tbody>\n",
       "    <tr>\n",
       "      <th>0</th>\n",
       "      <td>2018-03-10</td>\n",
       "      <td>80:807000:19700:002</td>\n",
       "      <td>80:807000</td>\n",
       "      <td>RB</td>\n",
       "      <td>8503424</td>\n",
       "      <td>2018-03-10 05:54:00</td>\n",
       "      <td>2018-03-10 05:55:40</td>\n",
       "      <td>NaT</td>\n",
       "      <td>NaT</td>\n",
       "    </tr>\n",
       "    <tr>\n",
       "      <th>1</th>\n",
       "      <td>2018-03-10</td>\n",
       "      <td>80:807000:19701:001</td>\n",
       "      <td>80:807000</td>\n",
       "      <td>S</td>\n",
       "      <td>8503424</td>\n",
       "      <td>NaT</td>\n",
       "      <td>NaT</td>\n",
       "      <td>2018-03-10 05:28:00</td>\n",
       "      <td>2018-03-10 05:28:56</td>\n",
       "    </tr>\n",
       "    <tr>\n",
       "      <th>2</th>\n",
       "      <td>2018-03-10</td>\n",
       "      <td>80:807000:19702:004</td>\n",
       "      <td>80:807000</td>\n",
       "      <td>RB</td>\n",
       "      <td>8503424</td>\n",
       "      <td>2018-03-10 06:24:00</td>\n",
       "      <td>2018-03-10 06:24:49</td>\n",
       "      <td>NaT</td>\n",
       "      <td>NaT</td>\n",
       "    </tr>\n",
       "    <tr>\n",
       "      <th>3</th>\n",
       "      <td>2018-03-10</td>\n",
       "      <td>80:807000:19703:005</td>\n",
       "      <td>80:807000</td>\n",
       "      <td>S</td>\n",
       "      <td>8503424</td>\n",
       "      <td>NaT</td>\n",
       "      <td>NaT</td>\n",
       "      <td>2018-03-10 06:07:00</td>\n",
       "      <td>2018-03-10 06:07:35</td>\n",
       "    </tr>\n",
       "    <tr>\n",
       "      <th>4</th>\n",
       "      <td>2018-03-10</td>\n",
       "      <td>80:807000:19704:007</td>\n",
       "      <td>80:807000</td>\n",
       "      <td>RB</td>\n",
       "      <td>8503424</td>\n",
       "      <td>2018-03-10 06:54:00</td>\n",
       "      <td>2018-03-10 06:55:39</td>\n",
       "      <td>NaT</td>\n",
       "      <td>NaT</td>\n",
       "    </tr>\n",
       "  </tbody>\n",
       "</table>\n",
       "</div>"
      ],
      "text/plain": [
       "  BETRIEBSTAG     FAHRT_BEZEICHNER BETREIBER_ID VERKEHRSMITTEL_TEXT    BPUIC  \\\n",
       "0  2018-03-10  80:807000:19700:002    80:807000                  RB  8503424   \n",
       "1  2018-03-10  80:807000:19701:001    80:807000                   S  8503424   \n",
       "2  2018-03-10  80:807000:19702:004    80:807000                  RB  8503424   \n",
       "3  2018-03-10  80:807000:19703:005    80:807000                   S  8503424   \n",
       "4  2018-03-10  80:807000:19704:007    80:807000                  RB  8503424   \n",
       "\n",
       "         ANKUNFTSZEIT         AN_PROGNOSE        ABFAHRTSZEIT  \\\n",
       "0 2018-03-10 05:54:00 2018-03-10 05:55:40                 NaT   \n",
       "1                 NaT                 NaT 2018-03-10 05:28:00   \n",
       "2 2018-03-10 06:24:00 2018-03-10 06:24:49                 NaT   \n",
       "3                 NaT                 NaT 2018-03-10 06:07:00   \n",
       "4 2018-03-10 06:54:00 2018-03-10 06:55:39                 NaT   \n",
       "\n",
       "          AB_PROGNOSE  \n",
       "0                 NaT  \n",
       "1 2018-03-10 05:28:56  \n",
       "2                 NaT  \n",
       "3 2018-03-10 06:07:35  \n",
       "4                 NaT  "
      ]
     },
     "execution_count": 18,
     "metadata": {},
     "output_type": "execute_result"
    }
   ],
   "source": [
    "df.head()"
   ]
  },
  {
   "cell_type": "code",
   "execution_count": 19,
   "metadata": {},
   "outputs": [],
   "source": [
    "df[\"VERSPAETUNG_AN\"] = df[\"AN_PROGNOSE\"] - df[\"ANKUNFTSZEIT\"]\n",
    "df[\"VERSPAETUNG_AB\"] = df[\"AB_PROGNOSE\"] - df[\"ABFAHRTSZEIT\"]"
   ]
  },
  {
   "cell_type": "code",
   "execution_count": 20,
   "metadata": {},
   "outputs": [
    {
     "data": {
      "text/html": [
       "<div>\n",
       "<style scoped>\n",
       "    .dataframe tbody tr th:only-of-type {\n",
       "        vertical-align: middle;\n",
       "    }\n",
       "\n",
       "    .dataframe tbody tr th {\n",
       "        vertical-align: top;\n",
       "    }\n",
       "\n",
       "    .dataframe thead th {\n",
       "        text-align: right;\n",
       "    }\n",
       "</style>\n",
       "<table border=\"1\" class=\"dataframe\">\n",
       "  <thead>\n",
       "    <tr style=\"text-align: right;\">\n",
       "      <th></th>\n",
       "      <th>BETRIEBSTAG</th>\n",
       "      <th>FAHRT_BEZEICHNER</th>\n",
       "      <th>BETREIBER_ID</th>\n",
       "      <th>VERKEHRSMITTEL_TEXT</th>\n",
       "      <th>BPUIC</th>\n",
       "      <th>ANKUNFTSZEIT</th>\n",
       "      <th>AN_PROGNOSE</th>\n",
       "      <th>ABFAHRTSZEIT</th>\n",
       "      <th>AB_PROGNOSE</th>\n",
       "      <th>VERSPAETUNG_AN</th>\n",
       "      <th>VERSPAETUNG_AB</th>\n",
       "    </tr>\n",
       "  </thead>\n",
       "  <tbody>\n",
       "    <tr>\n",
       "      <th>0</th>\n",
       "      <td>2018-03-10</td>\n",
       "      <td>80:807000:19700:002</td>\n",
       "      <td>80:807000</td>\n",
       "      <td>RB</td>\n",
       "      <td>8503424</td>\n",
       "      <td>2018-03-10 05:54:00</td>\n",
       "      <td>2018-03-10 05:55:40</td>\n",
       "      <td>NaT</td>\n",
       "      <td>NaT</td>\n",
       "      <td>00:01:40</td>\n",
       "      <td>NaT</td>\n",
       "    </tr>\n",
       "    <tr>\n",
       "      <th>1</th>\n",
       "      <td>2018-03-10</td>\n",
       "      <td>80:807000:19701:001</td>\n",
       "      <td>80:807000</td>\n",
       "      <td>S</td>\n",
       "      <td>8503424</td>\n",
       "      <td>NaT</td>\n",
       "      <td>NaT</td>\n",
       "      <td>2018-03-10 05:28:00</td>\n",
       "      <td>2018-03-10 05:28:56</td>\n",
       "      <td>NaT</td>\n",
       "      <td>00:00:56</td>\n",
       "    </tr>\n",
       "    <tr>\n",
       "      <th>2</th>\n",
       "      <td>2018-03-10</td>\n",
       "      <td>80:807000:19702:004</td>\n",
       "      <td>80:807000</td>\n",
       "      <td>RB</td>\n",
       "      <td>8503424</td>\n",
       "      <td>2018-03-10 06:24:00</td>\n",
       "      <td>2018-03-10 06:24:49</td>\n",
       "      <td>NaT</td>\n",
       "      <td>NaT</td>\n",
       "      <td>00:00:49</td>\n",
       "      <td>NaT</td>\n",
       "    </tr>\n",
       "    <tr>\n",
       "      <th>3</th>\n",
       "      <td>2018-03-10</td>\n",
       "      <td>80:807000:19703:005</td>\n",
       "      <td>80:807000</td>\n",
       "      <td>S</td>\n",
       "      <td>8503424</td>\n",
       "      <td>NaT</td>\n",
       "      <td>NaT</td>\n",
       "      <td>2018-03-10 06:07:00</td>\n",
       "      <td>2018-03-10 06:07:35</td>\n",
       "      <td>NaT</td>\n",
       "      <td>00:00:35</td>\n",
       "    </tr>\n",
       "    <tr>\n",
       "      <th>4</th>\n",
       "      <td>2018-03-10</td>\n",
       "      <td>80:807000:19704:007</td>\n",
       "      <td>80:807000</td>\n",
       "      <td>RB</td>\n",
       "      <td>8503424</td>\n",
       "      <td>2018-03-10 06:54:00</td>\n",
       "      <td>2018-03-10 06:55:39</td>\n",
       "      <td>NaT</td>\n",
       "      <td>NaT</td>\n",
       "      <td>00:01:39</td>\n",
       "      <td>NaT</td>\n",
       "    </tr>\n",
       "  </tbody>\n",
       "</table>\n",
       "</div>"
      ],
      "text/plain": [
       "  BETRIEBSTAG     FAHRT_BEZEICHNER BETREIBER_ID VERKEHRSMITTEL_TEXT    BPUIC  \\\n",
       "0  2018-03-10  80:807000:19700:002    80:807000                  RB  8503424   \n",
       "1  2018-03-10  80:807000:19701:001    80:807000                   S  8503424   \n",
       "2  2018-03-10  80:807000:19702:004    80:807000                  RB  8503424   \n",
       "3  2018-03-10  80:807000:19703:005    80:807000                   S  8503424   \n",
       "4  2018-03-10  80:807000:19704:007    80:807000                  RB  8503424   \n",
       "\n",
       "         ANKUNFTSZEIT         AN_PROGNOSE        ABFAHRTSZEIT  \\\n",
       "0 2018-03-10 05:54:00 2018-03-10 05:55:40                 NaT   \n",
       "1                 NaT                 NaT 2018-03-10 05:28:00   \n",
       "2 2018-03-10 06:24:00 2018-03-10 06:24:49                 NaT   \n",
       "3                 NaT                 NaT 2018-03-10 06:07:00   \n",
       "4 2018-03-10 06:54:00 2018-03-10 06:55:39                 NaT   \n",
       "\n",
       "          AB_PROGNOSE VERSPAETUNG_AN VERSPAETUNG_AB  \n",
       "0                 NaT       00:01:40            NaT  \n",
       "1 2018-03-10 05:28:56            NaT       00:00:56  \n",
       "2                 NaT       00:00:49            NaT  \n",
       "3 2018-03-10 06:07:35            NaT       00:00:35  \n",
       "4                 NaT       00:01:39            NaT  "
      ]
     },
     "execution_count": 20,
     "metadata": {},
     "output_type": "execute_result"
    }
   ],
   "source": [
    "df.head()"
   ]
  },
  {
   "cell_type": "markdown",
   "metadata": {},
   "source": [
    "# Overal arrival and departure delay"
   ]
  },
  {
   "cell_type": "code",
   "execution_count": 21,
   "metadata": {},
   "outputs": [
    {
     "name": "stdout",
     "output_type": "stream",
     "text": [
      "# non-null arr-delays: 882207\n",
      "Wall time: 6.95 s\n"
     ]
    }
   ],
   "source": [
    "%%time\n",
    "df_an_versp = df[\"VERSPAETUNG_AN\"].dropna().apply(lambda d: d.total_seconds() / 60.0)\n",
    "print \"# non-null arr-delays: {}\".format(len(df_an_versp))"
   ]
  },
  {
   "cell_type": "code",
   "execution_count": 22,
   "metadata": {},
   "outputs": [],
   "source": [
    "left = -5.0\n",
    "right = 15.00000001\n",
    "step = 0.25"
   ]
  },
  {
   "cell_type": "code",
   "execution_count": 23,
   "metadata": {},
   "outputs": [
    {
     "data": {
      "text/plain": [
       "<matplotlib.axes._subplots.AxesSubplot at 0x43fb438>"
      ]
     },
     "execution_count": 23,
     "metadata": {},
     "output_type": "execute_result"
    },
    {
     "data": {
      "image/png": "[encoded data removed]",
      "text/plain": [
       "<Figure size 720x432 with 1 Axes>"
      ]
     },
     "metadata": {
      "needs_background": "light"
     },
     "output_type": "display_data"
    }
   ],
   "source": [
    "an_range = np.arange(left, right, step)\n",
    "df_an_versp.plot.hist(bins=an_range, figsize=(10, 6), grid=True)"
   ]
  },
  {
   "cell_type": "code",
   "execution_count": 24,
   "metadata": {},
   "outputs": [
    {
     "name": "stdout",
     "output_type": "stream",
     "text": [
      "# non-null dep-delays: 903100\n"
     ]
    }
   ],
   "source": [
    "df_ab_versp = df[\"VERSPAETUNG_AB\"].dropna().apply(lambda d: d.total_seconds() / 60.0)\n",
    "print \"# non-null dep-delays: {}\".format(len(df_ab_versp))"
   ]
  },
  {
   "cell_type": "code",
   "execution_count": 25,
   "metadata": {},
   "outputs": [
    {
     "data": {
      "text/plain": [
       "1     0.933333\n",
       "3     0.583333\n",
       "5     0.466667\n",
       "7     0.500000\n",
       "9     0.600000\n",
       "11    0.633333\n",
       "13    0.416667\n",
       "15    0.600000\n",
       "17    0.466667\n",
       "19    0.683333\n",
       "21    0.550000\n",
       "23    0.483333\n",
       "25    0.466667\n",
       "27    0.516667\n",
       "29    0.333333\n",
       "Name: VERSPAETUNG_AB, dtype: float64"
      ]
     },
     "execution_count": 25,
     "metadata": {},
     "output_type": "execute_result"
    }
   ],
   "source": [
    "df_ab_versp.head(15)"
   ]
  },
  {
   "cell_type": "code",
   "execution_count": 26,
   "metadata": {},
   "outputs": [
    {
     "data": {
      "text/plain": [
       "<matplotlib.axes._subplots.AxesSubplot at 0x226e3ac8>"
      ]
     },
     "execution_count": 26,
     "metadata": {},
     "output_type": "execute_result"
    },
    {
     "data": {
      "image/png": "[encoded data removed]",
      "text/plain": [
       "<Figure size 720x432 with 1 Axes>"
      ]
     },
     "metadata": {
      "needs_background": "light"
     },
     "output_type": "display_data"
    }
   ],
   "source": [
    "ab_range = np.arange(left, right, step)\n",
    "df_ab_versp.plot.hist(bins=ab_range, figsize=(10, 6), grid=True)"
   ]
  },
  {
   "cell_type": "markdown",
   "metadata": {},
   "source": [
    "# Grouping"
   ]
  },
  {
   "cell_type": "code",
   "execution_count": 27,
   "metadata": {},
   "outputs": [
    {
     "data": {
      "text/html": [
       "<div>\n",
       "<style scoped>\n",
       "    .dataframe tbody tr th:only-of-type {\n",
       "        vertical-align: middle;\n",
       "    }\n",
       "\n",
       "    .dataframe tbody tr th {\n",
       "        vertical-align: top;\n",
       "    }\n",
       "\n",
       "    .dataframe thead th {\n",
       "        text-align: right;\n",
       "    }\n",
       "</style>\n",
       "<table border=\"1\" class=\"dataframe\">\n",
       "  <thead>\n",
       "    <tr style=\"text-align: right;\">\n",
       "      <th></th>\n",
       "      <th>BETRIEBSTAG</th>\n",
       "      <th>FAHRT_BEZEICHNER</th>\n",
       "      <th>BETREIBER_ID</th>\n",
       "      <th>VERKEHRSMITTEL_TEXT</th>\n",
       "      <th>BPUIC</th>\n",
       "      <th>ANKUNFTSZEIT</th>\n",
       "      <th>AN_PROGNOSE</th>\n",
       "      <th>ABFAHRTSZEIT</th>\n",
       "      <th>AB_PROGNOSE</th>\n",
       "      <th>VERSPAETUNG_AN</th>\n",
       "      <th>VERSPAETUNG_AB</th>\n",
       "    </tr>\n",
       "  </thead>\n",
       "  <tbody>\n",
       "    <tr>\n",
       "      <th>0</th>\n",
       "      <td>2018-03-10</td>\n",
       "      <td>80:807000:19700:002</td>\n",
       "      <td>80:807000</td>\n",
       "      <td>RB</td>\n",
       "      <td>8503424</td>\n",
       "      <td>2018-03-10 05:54:00</td>\n",
       "      <td>2018-03-10 05:55:40</td>\n",
       "      <td>NaT</td>\n",
       "      <td>NaT</td>\n",
       "      <td>00:01:40</td>\n",
       "      <td>NaT</td>\n",
       "    </tr>\n",
       "    <tr>\n",
       "      <th>1</th>\n",
       "      <td>2018-03-10</td>\n",
       "      <td>80:807000:19701:001</td>\n",
       "      <td>80:807000</td>\n",
       "      <td>S</td>\n",
       "      <td>8503424</td>\n",
       "      <td>NaT</td>\n",
       "      <td>NaT</td>\n",
       "      <td>2018-03-10 05:28:00</td>\n",
       "      <td>2018-03-10 05:28:56</td>\n",
       "      <td>NaT</td>\n",
       "      <td>00:00:56</td>\n",
       "    </tr>\n",
       "    <tr>\n",
       "      <th>2</th>\n",
       "      <td>2018-03-10</td>\n",
       "      <td>80:807000:19702:004</td>\n",
       "      <td>80:807000</td>\n",
       "      <td>RB</td>\n",
       "      <td>8503424</td>\n",
       "      <td>2018-03-10 06:24:00</td>\n",
       "      <td>2018-03-10 06:24:49</td>\n",
       "      <td>NaT</td>\n",
       "      <td>NaT</td>\n",
       "      <td>00:00:49</td>\n",
       "      <td>NaT</td>\n",
       "    </tr>\n",
       "    <tr>\n",
       "      <th>3</th>\n",
       "      <td>2018-03-10</td>\n",
       "      <td>80:807000:19703:005</td>\n",
       "      <td>80:807000</td>\n",
       "      <td>S</td>\n",
       "      <td>8503424</td>\n",
       "      <td>NaT</td>\n",
       "      <td>NaT</td>\n",
       "      <td>2018-03-10 06:07:00</td>\n",
       "      <td>2018-03-10 06:07:35</td>\n",
       "      <td>NaT</td>\n",
       "      <td>00:00:35</td>\n",
       "    </tr>\n",
       "    <tr>\n",
       "      <th>4</th>\n",
       "      <td>2018-03-10</td>\n",
       "      <td>80:807000:19704:007</td>\n",
       "      <td>80:807000</td>\n",
       "      <td>RB</td>\n",
       "      <td>8503424</td>\n",
       "      <td>2018-03-10 06:54:00</td>\n",
       "      <td>2018-03-10 06:55:39</td>\n",
       "      <td>NaT</td>\n",
       "      <td>NaT</td>\n",
       "      <td>00:01:39</td>\n",
       "      <td>NaT</td>\n",
       "    </tr>\n",
       "  </tbody>\n",
       "</table>\n",
       "</div>"
      ],
      "text/plain": [
       "  BETRIEBSTAG     FAHRT_BEZEICHNER BETREIBER_ID VERKEHRSMITTEL_TEXT    BPUIC  \\\n",
       "0  2018-03-10  80:807000:19700:002    80:807000                  RB  8503424   \n",
       "1  2018-03-10  80:807000:19701:001    80:807000                   S  8503424   \n",
       "2  2018-03-10  80:807000:19702:004    80:807000                  RB  8503424   \n",
       "3  2018-03-10  80:807000:19703:005    80:807000                   S  8503424   \n",
       "4  2018-03-10  80:807000:19704:007    80:807000                  RB  8503424   \n",
       "\n",
       "         ANKUNFTSZEIT         AN_PROGNOSE        ABFAHRTSZEIT  \\\n",
       "0 2018-03-10 05:54:00 2018-03-10 05:55:40                 NaT   \n",
       "1                 NaT                 NaT 2018-03-10 05:28:00   \n",
       "2 2018-03-10 06:24:00 2018-03-10 06:24:49                 NaT   \n",
       "3                 NaT                 NaT 2018-03-10 06:07:00   \n",
       "4 2018-03-10 06:54:00 2018-03-10 06:55:39                 NaT   \n",
       "\n",
       "          AB_PROGNOSE VERSPAETUNG_AN VERSPAETUNG_AB  \n",
       "0                 NaT       00:01:40            NaT  \n",
       "1 2018-03-10 05:28:56            NaT       00:00:56  \n",
       "2                 NaT       00:00:49            NaT  \n",
       "3 2018-03-10 06:07:35            NaT       00:00:35  \n",
       "4                 NaT       00:01:39            NaT  "
      ]
     },
     "execution_count": 27,
     "metadata": {},
     "output_type": "execute_result"
    }
   ],
   "source": [
    "df.head()"
   ]
  },
  {
   "cell_type": "code",
   "execution_count": 28,
   "metadata": {},
   "outputs": [
    {
     "name": "stdout",
     "output_type": "stream",
     "text": [
      "Wall time: 668 ms\n"
     ]
    }
   ],
   "source": [
    "%%time\n",
    "df[\"TRAIN_ID\"] = df[\"FAHRT_BEZEICHNER\"].apply(lambda x: \":\".join(x.split(\":\")[:-1]))"
   ]
  },
  {
   "cell_type": "code",
   "execution_count": 29,
   "metadata": {},
   "outputs": [
    {
     "data": {
      "text/html": [
       "<div>\n",
       "<style scoped>\n",
       "    .dataframe tbody tr th:only-of-type {\n",
       "        vertical-align: middle;\n",
       "    }\n",
       "\n",
       "    .dataframe tbody tr th {\n",
       "        vertical-align: top;\n",
       "    }\n",
       "\n",
       "    .dataframe thead th {\n",
       "        text-align: right;\n",
       "    }\n",
       "</style>\n",
       "<table border=\"1\" class=\"dataframe\">\n",
       "  <thead>\n",
       "    <tr style=\"text-align: right;\">\n",
       "      <th></th>\n",
       "      <th>BETRIEBSTAG</th>\n",
       "      <th>FAHRT_BEZEICHNER</th>\n",
       "      <th>BETREIBER_ID</th>\n",
       "      <th>VERKEHRSMITTEL_TEXT</th>\n",
       "      <th>BPUIC</th>\n",
       "      <th>ANKUNFTSZEIT</th>\n",
       "      <th>AN_PROGNOSE</th>\n",
       "      <th>ABFAHRTSZEIT</th>\n",
       "      <th>AB_PROGNOSE</th>\n",
       "      <th>VERSPAETUNG_AN</th>\n",
       "      <th>VERSPAETUNG_AB</th>\n",
       "      <th>TRAIN_ID</th>\n",
       "    </tr>\n",
       "  </thead>\n",
       "  <tbody>\n",
       "    <tr>\n",
       "      <th>0</th>\n",
       "      <td>2018-03-10</td>\n",
       "      <td>80:807000:19700:002</td>\n",
       "      <td>80:807000</td>\n",
       "      <td>RB</td>\n",
       "      <td>8503424</td>\n",
       "      <td>2018-03-10 05:54:00</td>\n",
       "      <td>2018-03-10 05:55:40</td>\n",
       "      <td>NaT</td>\n",
       "      <td>NaT</td>\n",
       "      <td>00:01:40</td>\n",
       "      <td>NaT</td>\n",
       "      <td>80:807000:19700</td>\n",
       "    </tr>\n",
       "    <tr>\n",
       "      <th>1</th>\n",
       "      <td>2018-03-10</td>\n",
       "      <td>80:807000:19701:001</td>\n",
       "      <td>80:807000</td>\n",
       "      <td>S</td>\n",
       "      <td>8503424</td>\n",
       "      <td>NaT</td>\n",
       "      <td>NaT</td>\n",
       "      <td>2018-03-10 05:28:00</td>\n",
       "      <td>2018-03-10 05:28:56</td>\n",
       "      <td>NaT</td>\n",
       "      <td>00:00:56</td>\n",
       "      <td>80:807000:19701</td>\n",
       "    </tr>\n",
       "    <tr>\n",
       "      <th>2</th>\n",
       "      <td>2018-03-10</td>\n",
       "      <td>80:807000:19702:004</td>\n",
       "      <td>80:807000</td>\n",
       "      <td>RB</td>\n",
       "      <td>8503424</td>\n",
       "      <td>2018-03-10 06:24:00</td>\n",
       "      <td>2018-03-10 06:24:49</td>\n",
       "      <td>NaT</td>\n",
       "      <td>NaT</td>\n",
       "      <td>00:00:49</td>\n",
       "      <td>NaT</td>\n",
       "      <td>80:807000:19702</td>\n",
       "    </tr>\n",
       "    <tr>\n",
       "      <th>3</th>\n",
       "      <td>2018-03-10</td>\n",
       "      <td>80:807000:19703:005</td>\n",
       "      <td>80:807000</td>\n",
       "      <td>S</td>\n",
       "      <td>8503424</td>\n",
       "      <td>NaT</td>\n",
       "      <td>NaT</td>\n",
       "      <td>2018-03-10 06:07:00</td>\n",
       "      <td>2018-03-10 06:07:35</td>\n",
       "      <td>NaT</td>\n",
       "      <td>00:00:35</td>\n",
       "      <td>80:807000:19703</td>\n",
       "    </tr>\n",
       "    <tr>\n",
       "      <th>4</th>\n",
       "      <td>2018-03-10</td>\n",
       "      <td>80:807000:19704:007</td>\n",
       "      <td>80:807000</td>\n",
       "      <td>RB</td>\n",
       "      <td>8503424</td>\n",
       "      <td>2018-03-10 06:54:00</td>\n",
       "      <td>2018-03-10 06:55:39</td>\n",
       "      <td>NaT</td>\n",
       "      <td>NaT</td>\n",
       "      <td>00:01:39</td>\n",
       "      <td>NaT</td>\n",
       "      <td>80:807000:19704</td>\n",
       "    </tr>\n",
       "  </tbody>\n",
       "</table>\n",
       "</div>"
      ],
      "text/plain": [
       "  BETRIEBSTAG     FAHRT_BEZEICHNER BETREIBER_ID VERKEHRSMITTEL_TEXT    BPUIC  \\\n",
       "0  2018-03-10  80:807000:19700:002    80:807000                  RB  8503424   \n",
       "1  2018-03-10  80:807000:19701:001    80:807000                   S  8503424   \n",
       "2  2018-03-10  80:807000:19702:004    80:807000                  RB  8503424   \n",
       "3  2018-03-10  80:807000:19703:005    80:807000                   S  8503424   \n",
       "4  2018-03-10  80:807000:19704:007    80:807000                  RB  8503424   \n",
       "\n",
       "         ANKUNFTSZEIT         AN_PROGNOSE        ABFAHRTSZEIT  \\\n",
       "0 2018-03-10 05:54:00 2018-03-10 05:55:40                 NaT   \n",
       "1                 NaT                 NaT 2018-03-10 05:28:00   \n",
       "2 2018-03-10 06:24:00 2018-03-10 06:24:49                 NaT   \n",
       "3                 NaT                 NaT 2018-03-10 06:07:00   \n",
       "4 2018-03-10 06:54:00 2018-03-10 06:55:39                 NaT   \n",
       "\n",
       "          AB_PROGNOSE VERSPAETUNG_AN VERSPAETUNG_AB         TRAIN_ID  \n",
       "0                 NaT       00:01:40            NaT  80:807000:19700  \n",
       "1 2018-03-10 05:28:56            NaT       00:00:56  80:807000:19701  \n",
       "2                 NaT       00:00:49            NaT  80:807000:19702  \n",
       "3 2018-03-10 06:07:35            NaT       00:00:35  80:807000:19703  \n",
       "4                 NaT       00:01:39            NaT  80:807000:19704  "
      ]
     },
     "execution_count": 29,
     "metadata": {},
     "output_type": "execute_result"
    }
   ],
   "source": [
    "df.head()"
   ]
  },
  {
   "cell_type": "code",
   "execution_count": 30,
   "metadata": {},
   "outputs": [
    {
     "name": "stdout",
     "output_type": "stream",
     "text": [
      "Wall time: 145 ms\n"
     ]
    }
   ],
   "source": [
    "%%time\n",
    "gpd = df.groupby([\"TRAIN_ID\", \"BPUIC\"])"
   ]
  },
  {
   "cell_type": "code",
   "execution_count": 33,
   "metadata": {},
   "outputs": [],
   "source": [
    "d = gpd.groups"
   ]
  },
  {
   "cell_type": "code",
   "execution_count": 56,
   "metadata": {},
   "outputs": [],
   "source": [
    "df_tt = df[[\"TRAIN_ID\", \"BPUIC\", \"ANKUNFTSZEIT\", \"ABFAHRTSZEIT\", \"BETRIEBSTAG\"]].groupby([\"TRAIN_ID\", \"BPUIC\"]).agg({\"ANKUNFTSZEIT\": min, \"ABFAHRTSZEIT\": min, \"BETRIEBSTAG\": len}).reset_index().sort_values(by=[\"TRAIN_ID\", \"ABFAHRTSZEIT\", \"ANKUNFTSZEIT\"])\n",
    "df_tt = df_tt.rename(columns={\"BETRIEBSTAG\": \"COUNT\"})\n",
    "df_tt = df_tt[[\"TRAIN_ID\", \"BPUIC\", \"ANKUNFTSZEIT\", \"ABFAHRTSZEIT\", \"COUNT\"]]"
   ]
  },
  {
   "cell_type": "code",
   "execution_count": 59,
   "metadata": {},
   "outputs": [],
   "source": [
    "df_tt.to_csv(os.path.join(\"data\", \"train_bp_uic_counts.csv\"), sep=\";\", index=False)"
   ]
  },
  {
   "cell_type": "markdown",
   "metadata": {},
   "source": [
    "# Optimization"
   ]
  },
  {
   "cell_type": "markdown",
   "metadata": {},
   "source": [
    "## Distributions"
   ]
  },
  {
   "cell_type": "code",
   "execution_count": null,
   "metadata": {},
   "outputs": [],
   "source": [
    "dist_names_large = [\n",
    "    'alpha',\n",
    "    'anglit',\n",
    "    'arcsine',\n",
    "    'beta',\n",
    "    'betaprime',\n",
    "    'bradford',\n",
    "    'burr',\n",
    "    'cauchy',\n",
    "    'chi',\n",
    "    'chi2',\n",
    "    'cosine',\n",
    "    'dgamma',\n",
    "    'dweibull',\n",
    "    'erlang',\n",
    "    'expon',\n",
    "    'exponnorm',\n",
    "    'exponweib',\n",
    "    'exponpow',\n",
    "    'f',\n",
    "    'fatiguelife',\n",
    "    'fisk',\n",
    "    'foldcauchy',\n",
    "    'foldnorm',\n",
    "    'frechet_r',\n",
    "    'frechet_l',\n",
    "    'genlogistic',\n",
    "    'genpareto',\n",
    "    'gennorm',\n",
    "    'genexpon',\n",
    "    'genextreme',\n",
    "#     'gausshyper',\n",
    "    'gamma',\n",
    "    'gengamma',\n",
    "    'genhalflogistic',\n",
    "    'gilbrat',\n",
    "    'gompertz',\n",
    "    'gumbel_r',\n",
    "    'gumbel_l',\n",
    "    'halfcauchy',\n",
    "    'halflogistic',\n",
    "    'halfnorm',\n",
    "    'halfgennorm',\n",
    "    'hypsecant',\n",
    "    'invgamma',\n",
    "    'invgauss',\n",
    "    'invweibull',\n",
    "    'johnsonsb',\n",
    "    'johnsonsu',\n",
    "    'ksone',\n",
    "    'kstwobign',\n",
    "    'laplace',\n",
    "    'levy',\n",
    "    'levy_l',\n",
    "#     'levy_stable',\n",
    "    'logistic',\n",
    "    'loggamma',\n",
    "    'loglaplace',\n",
    "    'lognorm',\n",
    "    'lomax',\n",
    "    'maxwell',\n",
    "    'mielke',\n",
    "    'nakagami',\n",
    "    'ncx2',\n",
    "#     'ncf',\n",
    "    'nct',\n",
    "    'norm',\n",
    "    'pareto',\n",
    "    'pearson3',\n",
    "    'powerlaw',\n",
    "    'powerlognorm',\n",
    "    'powernorm',\n",
    "#     'rdist',\n",
    "    'reciprocal',\n",
    "    'rayleigh',\n",
    "    'rice',\n",
    "    'recipinvgauss',\n",
    "    'semicircular',\n",
    "    't',\n",
    "    'triang',\n",
    "    'truncexpon',\n",
    "    'truncnorm',\n",
    "    'tukeylambda',\n",
    "    'uniform',\n",
    "    'vonmises',\n",
    "    'vonmises_line',\n",
    "    'wald',\n",
    "    'weibull_min',\n",
    "    'weibull_max',\n",
    "    'wrapcauchy',\n",
    "]"
   ]
  },
  {
   "cell_type": "code",
   "execution_count": null,
   "metadata": {},
   "outputs": [],
   "source": [
    "dist_names_small = [\n",
    "    'norm', \n",
    "    'lognorm',\n",
    "    'weibull_min',\n",
    "     'weibull_max',\n",
    "    'alpha',\n",
    "    'cauchy',\n",
    "    'powerlognorm',\n",
    "    'chi',\n",
    "    'erlang',\n",
    "    'expon',\n",
    "    'gamma',\n",
    "    'gumbel_r',\n",
    "    'halfcauchy',\n",
    "    'maxwell',\n",
    "    'wald',\n",
    "    'levy',\n",
    "    'levy_l',\n",
    "    'pareto',\n",
    "]\n"
   ]
  },
  {
   "cell_type": "markdown",
   "metadata": {},
   "source": [
    "## Definition"
   ]
  },
  {
   "cell_type": "code",
   "execution_count": null,
   "metadata": {},
   "outputs": [],
   "source": [
    "def optimize(dist_name, data, opt_type='kst'):\n",
    "    dist = getattr(scipy.stats, dist_name)\n",
    "    first_guess = dist.fit(data)\n",
    "    def fun_eval(act_paras, opt_type=opt_type):\n",
    "        if opt_type == 'kst':\n",
    "            d, p = scipy.stats.kstest(data, dist_name, act_paras)\n",
    "            return d\n",
    "        elif opt_type == 'cst':\n",
    "            left = -5.0\n",
    "            right = 10.0000000000000001\n",
    "            step = 0.25\n",
    "            r = np.arange(left, right, step)\n",
    "            hist_emp = np.histogram(data, r, density=True)[0]\n",
    "            r_m = np.array([(r[i] + r[i + 1]) / 2.0 for i in range(len(r) - 1)])\n",
    "            hist_exp = dist.pdf(r_m, *act_paras[:-2], loc=act_paras[-2], scale=act_paras[-1])\n",
    "            return st.chisquare(hist_emp, f_exp=hist_exp).statistic\n",
    "        elif opt_type == 'ss':\n",
    "            left = -5.0\n",
    "            right = 10.0000000000000001\n",
    "            step = 0.25\n",
    "            r = np.arange(left, right, step)\n",
    "            hist_emp = np.histogram(data, r, density=True)[0]\n",
    "            r_m = np.array([(r[i] + r[i + 1]) / 2.0 for i in range(len(r) - 1)])\n",
    "            hist_exp = dist.pdf(r_m, *act_paras[:-2], loc=act_paras[-2], scale=act_paras[-1])\n",
    "            return np.power(hist_emp - hist_exp, 2.0).sum()\n",
    "        elif opt_type == 'as':\n",
    "            left = -5.0\n",
    "            right = 10.0000000000000001\n",
    "            step = 0.25\n",
    "            r = np.arange(left, right, step)\n",
    "            hist_emp = np.histogram(data, r, density=True)[0]\n",
    "            r_m = np.array([(r[i] + r[i + 1]) / 2.0 for i in range(len(r) - 1)])\n",
    "            hist_exp = dist.pdf(r_m, *act_paras[:-2], loc=act_paras[-2], scale=act_paras[-1])\n",
    "            return np.absolute(hist_emp - hist_exp).sum()\n",
    "        else:\n",
    "            raise ValueError(\"{} is not a valid argument\".format(opt_type))\n",
    "    opt_paras = minimize(fun_eval, first_guess, method='nelder-mead')\n",
    "    return opt_paras"
   ]
  },
  {
   "cell_type": "code",
   "execution_count": null,
   "metadata": {},
   "outputs": [],
   "source": [
    "def evaluate(data, dist_names=dist_names_large, left=left, right=right, step=step, plot_best_n=5):\n",
    "    # plot data\n",
    "    x = np.arange(left, right, step)\n",
    "    y = np.array(data)\n",
    "    plt.figure(figsize=(13,9))\n",
    "    h = plt.hist(y, bins=x, color='black', density=False)\n",
    "\n",
    "    # optimization per distribution\n",
    "    res_per_dist_name = {}\n",
    "    for dist_name in dist_names:\n",
    "        print dist_name\n",
    "        try:\n",
    "            res = optimize(dist_name, y, opt_type='as')\n",
    "            res_per_dist_name[dist_name] = res\n",
    "            param = res.x\n",
    "        except Exception as e:\n",
    "            print \"no success: {}\".format(e)\n",
    "\n",
    "    # plot best distributions\n",
    "    sorted_dist_name_res_pairs = sorted(res_per_dist_name.items(), key=lambda p: p[1].fun)\n",
    "    x_dist=np.arange(left, right, 0.05)\n",
    "    for dist_name, res in sorted_dist_name_res_pairs[:plot_best_n]:\n",
    "            dist = getattr(scipy.stats, dist_name)\n",
    "            param = res.x\n",
    "            pdf_fitted = dist.pdf(x_dist, *param[:-2], loc=param[-2], scale=param[-1]) * h[0].sum() * step\n",
    "            plt.plot(x_dist, pdf_fitted, label=\"{} {:.4f} {}\".format(dist_name, res.fun, res.success))\n",
    "    plt.xlim(x[0], x[-1])\n",
    "    plt.legend(loc='upper right')\n",
    "    plt.show()"
   ]
  },
  {
   "cell_type": "markdown",
   "metadata": {},
   "source": [
    "## Analysis"
   ]
  },
  {
   "cell_type": "code",
   "execution_count": null,
   "metadata": {},
   "outputs": [],
   "source": [
    "def evaluate_arr_train_stop(train_id, bpuic, **kargs):\n",
    "    data = df[(df[\"TRAIN_ID\"] == train_id) & (df[\"BPUIC\"] == bpuic)][\"VERSPAETUNG_AN\"].dropna().apply(lambda d: d.total_seconds() / 60.0)\n",
    "    print len(data)\n",
    "    evaluate(data, **kargs)"
   ]
  },
  {
   "cell_type": "code",
   "execution_count": null,
   "metadata": {},
   "outputs": [],
   "source": [
    "evaluate_arr_train_stop(\"85:11:2528\", 8507000, step=0.5)"
   ]
  }
 ],
 "metadata": {
  "kernelspec": {
   "display_name": "Python 2",
   "language": "python",
   "name": "python2"
  },
  "language_info": {
   "codemirror_mode": {
    "name": "ipython",
    "version": 2
   },
   "file_extension": ".py",
   "mimetype": "text/x-python",
   "name": "python",
   "nbconvert_exporter": "python",
   "pygments_lexer": "ipython2",
   "version": "2.7.13"
  }
 },
 "nbformat": 4,
 "nbformat_minor": 2
}
