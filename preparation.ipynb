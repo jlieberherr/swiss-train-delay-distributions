{
 "cells": [
  {
   "cell_type": "code",
   "execution_count": null,
   "metadata": {},
   "outputs": [],
   "source": [
    "import os\n",
    "import zipfile\n",
    "import csv\n",
    "\n",
    "from collections import defaultdict, Counter"
   ]
  },
  {
   "cell_type": "code",
   "execution_count": null,
   "metadata": {},
   "outputs": [],
   "source": [
    "path_to_data = os.path.join(\"data\", \"input\")\n",
    "path_out = os.path.join(\"data\", \"processed.csv\")"
   ]
  },
  {
   "cell_type": "code",
   "execution_count": null,
   "metadata": {},
   "outputs": [],
   "source": [
    "# to_exclude = [\"18_0{}.zip\".format(x) for x in range(1, 6)]\n",
    "to_exclude = []"
   ]
  },
  {
   "cell_type": "code",
   "execution_count": null,
   "metadata": {},
   "outputs": [],
   "source": [
    "produkte = Counter()\n",
    "betreiber_names_per_id = defaultdict(set)\n",
    "haltestellen_names_per_uic = defaultdict(set)\n",
    "with open(path_out, \"wb\") as out:\n",
    "    for filename in os.listdir(path_to_data):\n",
    "        if filename not in to_exclude:\n",
    "            csv_writer = csv.writer(out, delimiter=\";\")\n",
    "            header = [\"BETRIEBSTAG\", \"FAHRT_BEZEICHNER\", \"BETREIBER_ID\", \"VERKEHRSMITTEL_TEXT\", \"BPUIC\", \"ANKUNFTSZEIT\", \"AN_PROGNOSE\", \"ABFAHRTSZEIT\", \"AB_PROGNOSE\"]\n",
    "            csv_writer.writerow(header)\n",
    "            if filename.endswith(\".zip\"):\n",
    "                print filename\n",
    "                with zipfile.ZipFile(os.path.join(path_to_data, filename)) as f:\n",
    "                    for name in f.namelist():\n",
    "                        with f.open(name) as ff:\n",
    "                            reader = csv.DictReader(ff, delimiter=\";\")\n",
    "                            nb_written = 0\n",
    "                            for line in reader:\n",
    "                                produkt = line['PRODUKT_ID']\n",
    "                                produkte[produkt] += 1\n",
    "                                an_status = line['AN_PROGNOSE_STATUS']\n",
    "                                ab_status = line['AB_PROGNOSE_STATUS']\n",
    "                                if produkt == 'Zug' and ((an_status == 'REAL') or (ab_status == 'REAL')):\n",
    "                                    bpuic = line[\"BPUIC\"]\n",
    "                                    haltestellen_names_per_uic[bpuic].add(line[\"HALTESTELLEN_NAME\"])\n",
    "                                    betreiber_id = line[\"BETREIBER_ID\"]\n",
    "                                    betreiber_names_per_id[betreiber_id].add(line[\"BETREIBER_NAME\"])\n",
    "                                    an = line['AN_PROGNOSE']\n",
    "                                    an_real = an if an_status == \"REAL\" else \"\"\n",
    "                                    ab = line['AB_PROGNOSE']\n",
    "                                    ab_real = ab if ab_status == \"REAL\" else \"\"\n",
    "                                    csv_writer.writerow([\n",
    "                                        line[\"BETRIEBSTAG\"], \n",
    "                                        line[\"FAHRT_BEZEICHNER\"], \n",
    "                                        line[\"BETREIBER_ID\"], \n",
    "                                        line[\"VERKEHRSMITTEL_TEXT\"],\n",
    "                                        bpuic,\n",
    "                                        line[\"ANKUNFTSZEIT\"],\n",
    "                                        an_real,\n",
    "                                        line[\"ABFAHRTSZEIT\"],\n",
    "                                        ab_real\n",
    "                                    ])\n",
    "                                    nb_written += 1\n",
    "                        out.flush()\n",
    "                        print \"   {} processed. # lines written: {}\".format(name, nb_written)"
   ]
  },
  {
   "cell_type": "code",
   "execution_count": null,
   "metadata": {},
   "outputs": [],
   "source": [
    "def write_to_csv(list_per_id, header, path_out):\n",
    "    with open(path_out, \"wb\") as f:\n",
    "        writer = csv.writer(f, delimiter=\";\")\n",
    "        writer.writerow(header)\n",
    "        for _id, entry_list in list_per_id.items():\n",
    "            for i, entry in enumerate(entry_list):\n",
    "                writer.writerow([_id, i, entry])"
   ]
  },
  {
   "cell_type": "code",
   "execution_count": null,
   "metadata": {},
   "outputs": [],
   "source": [
    "path_out_betreiber = os.path.join(\"data\", \"betreiber.csv\")\n",
    "header_betreiber = [\"BETREIBER_ID\", \"INDEX\", \"BETREIBER_NAME\"]\n",
    "write_to_csv(betreiber_names_per_id, header_betreiber, path_out_betreiber)"
   ]
  },
  {
   "cell_type": "code",
   "execution_count": null,
   "metadata": {},
   "outputs": [],
   "source": [
    "path_out_haltestellen = os.path.join(\"data\", \"haltestellen.csv\")\n",
    "header_haltestellenr = [\"BPUIC\", \"INDEX\", \"HALTESTELLEN_NAME\"]\n",
    "write_to_csv(haltestellen_names_per_uic, header_haltestellenr, path_out_haltestellen)"
   ]
  }
 ],
 "metadata": {
  "kernelspec": {
   "display_name": "Python 2",
   "language": "python",
   "name": "python2"
  },
  "language_info": {
   "codemirror_mode": {
    "name": "ipython",
    "version": 2
   },
   "file_extension": ".py",
   "mimetype": "text/x-python",
   "name": "python",
   "nbconvert_exporter": "python",
   "pygments_lexer": "ipython2",
   "version": "2.7.13"
  }
 },
 "nbformat": 4,
 "nbformat_minor": 2
}
